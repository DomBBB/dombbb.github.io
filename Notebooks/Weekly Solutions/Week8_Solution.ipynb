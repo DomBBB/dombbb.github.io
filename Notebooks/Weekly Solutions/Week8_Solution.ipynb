{
 "cells": [
  {
   "cell_type": "markdown",
   "metadata": {},
   "source": [
    "# Notebook 8"
   ]
  },
  {
   "cell_type": "markdown",
   "metadata": {},
   "source": [
    "Import the necessary dependencies, download a sample dataframe and take a first look at the structure."
   ]
  },
  {
   "cell_type": "code",
   "execution_count": 1,
   "metadata": {},
   "outputs": [
    {
     "data": {
      "text/html": [
       "<div>\n",
       "<style scoped>\n",
       "    .dataframe tbody tr th:only-of-type {\n",
       "        vertical-align: middle;\n",
       "    }\n",
       "\n",
       "    .dataframe tbody tr th {\n",
       "        vertical-align: top;\n",
       "    }\n",
       "\n",
       "    .dataframe thead th {\n",
       "        text-align: right;\n",
       "    }\n",
       "</style>\n",
       "<table border=\"1\" class=\"dataframe\">\n",
       "  <thead>\n",
       "    <tr style=\"text-align: right;\">\n",
       "      <th></th>\n",
       "      <th>Series_reference</th>\n",
       "      <th>Period</th>\n",
       "      <th>Data_value</th>\n",
       "      <th>Suppressed</th>\n",
       "      <th>STATUS</th>\n",
       "      <th>UNITS</th>\n",
       "      <th>Magnitude</th>\n",
       "      <th>Subject</th>\n",
       "      <th>Group</th>\n",
       "      <th>Series_title_1</th>\n",
       "      <th>Series_title_2</th>\n",
       "      <th>Series_title_3</th>\n",
       "      <th>Series_title_4</th>\n",
       "      <th>Series_title_5</th>\n",
       "    </tr>\n",
       "  </thead>\n",
       "  <tbody>\n",
       "    <tr>\n",
       "      <th>0</th>\n",
       "      <td>BDCQ.SF1AA2CA</td>\n",
       "      <td>2016.06</td>\n",
       "      <td>1116.386</td>\n",
       "      <td>NaN</td>\n",
       "      <td>F</td>\n",
       "      <td>Dollars</td>\n",
       "      <td>6</td>\n",
       "      <td>Business Data Collection - BDC</td>\n",
       "      <td>Industry by financial variable (NZSIOC Level 2)</td>\n",
       "      <td>Sales (operating income)</td>\n",
       "      <td>Forestry and Logging</td>\n",
       "      <td>Current prices</td>\n",
       "      <td>Unadjusted</td>\n",
       "      <td>NaN</td>\n",
       "    </tr>\n",
       "    <tr>\n",
       "      <th>1</th>\n",
       "      <td>BDCQ.SF1AA2CA</td>\n",
       "      <td>2016.09</td>\n",
       "      <td>1070.874</td>\n",
       "      <td>NaN</td>\n",
       "      <td>F</td>\n",
       "      <td>Dollars</td>\n",
       "      <td>6</td>\n",
       "      <td>Business Data Collection - BDC</td>\n",
       "      <td>Industry by financial variable (NZSIOC Level 2)</td>\n",
       "      <td>Sales (operating income)</td>\n",
       "      <td>Forestry and Logging</td>\n",
       "      <td>Current prices</td>\n",
       "      <td>Unadjusted</td>\n",
       "      <td>NaN</td>\n",
       "    </tr>\n",
       "    <tr>\n",
       "      <th>2</th>\n",
       "      <td>BDCQ.SF1AA2CA</td>\n",
       "      <td>2016.12</td>\n",
       "      <td>1054.408</td>\n",
       "      <td>NaN</td>\n",
       "      <td>F</td>\n",
       "      <td>Dollars</td>\n",
       "      <td>6</td>\n",
       "      <td>Business Data Collection - BDC</td>\n",
       "      <td>Industry by financial variable (NZSIOC Level 2)</td>\n",
       "      <td>Sales (operating income)</td>\n",
       "      <td>Forestry and Logging</td>\n",
       "      <td>Current prices</td>\n",
       "      <td>Unadjusted</td>\n",
       "      <td>NaN</td>\n",
       "    </tr>\n",
       "    <tr>\n",
       "      <th>3</th>\n",
       "      <td>BDCQ.SF1AA2CA</td>\n",
       "      <td>2017.03</td>\n",
       "      <td>1010.665</td>\n",
       "      <td>NaN</td>\n",
       "      <td>F</td>\n",
       "      <td>Dollars</td>\n",
       "      <td>6</td>\n",
       "      <td>Business Data Collection - BDC</td>\n",
       "      <td>Industry by financial variable (NZSIOC Level 2)</td>\n",
       "      <td>Sales (operating income)</td>\n",
       "      <td>Forestry and Logging</td>\n",
       "      <td>Current prices</td>\n",
       "      <td>Unadjusted</td>\n",
       "      <td>NaN</td>\n",
       "    </tr>\n",
       "    <tr>\n",
       "      <th>4</th>\n",
       "      <td>BDCQ.SF1AA2CA</td>\n",
       "      <td>2017.06</td>\n",
       "      <td>1233.700</td>\n",
       "      <td>NaN</td>\n",
       "      <td>F</td>\n",
       "      <td>Dollars</td>\n",
       "      <td>6</td>\n",
       "      <td>Business Data Collection - BDC</td>\n",
       "      <td>Industry by financial variable (NZSIOC Level 2)</td>\n",
       "      <td>Sales (operating income)</td>\n",
       "      <td>Forestry and Logging</td>\n",
       "      <td>Current prices</td>\n",
       "      <td>Unadjusted</td>\n",
       "      <td>NaN</td>\n",
       "    </tr>\n",
       "  </tbody>\n",
       "</table>\n",
       "</div>"
      ],
      "text/plain": [
       "  Series_reference   Period  Data_value Suppressed STATUS    UNITS  Magnitude  \\\n",
       "0    BDCQ.SF1AA2CA  2016.06    1116.386        NaN      F  Dollars          6   \n",
       "1    BDCQ.SF1AA2CA  2016.09    1070.874        NaN      F  Dollars          6   \n",
       "2    BDCQ.SF1AA2CA  2016.12    1054.408        NaN      F  Dollars          6   \n",
       "3    BDCQ.SF1AA2CA  2017.03    1010.665        NaN      F  Dollars          6   \n",
       "4    BDCQ.SF1AA2CA  2017.06    1233.700        NaN      F  Dollars          6   \n",
       "\n",
       "                          Subject  \\\n",
       "0  Business Data Collection - BDC   \n",
       "1  Business Data Collection - BDC   \n",
       "2  Business Data Collection - BDC   \n",
       "3  Business Data Collection - BDC   \n",
       "4  Business Data Collection - BDC   \n",
       "\n",
       "                                             Group            Series_title_1  \\\n",
       "0  Industry by financial variable (NZSIOC Level 2)  Sales (operating income)   \n",
       "1  Industry by financial variable (NZSIOC Level 2)  Sales (operating income)   \n",
       "2  Industry by financial variable (NZSIOC Level 2)  Sales (operating income)   \n",
       "3  Industry by financial variable (NZSIOC Level 2)  Sales (operating income)   \n",
       "4  Industry by financial variable (NZSIOC Level 2)  Sales (operating income)   \n",
       "\n",
       "         Series_title_2  Series_title_3 Series_title_4  Series_title_5  \n",
       "0  Forestry and Logging  Current prices     Unadjusted             NaN  \n",
       "1  Forestry and Logging  Current prices     Unadjusted             NaN  \n",
       "2  Forestry and Logging  Current prices     Unadjusted             NaN  \n",
       "3  Forestry and Logging  Current prices     Unadjusted             NaN  \n",
       "4  Forestry and Logging  Current prices     Unadjusted             NaN  "
      ]
     },
     "execution_count": 1,
     "metadata": {},
     "output_type": "execute_result"
    }
   ],
   "source": [
    "import pandas as pd\n",
    "df = pd.read_csv(\"https://stats.govt.nz/assets/Uploads/Business-financial-data/Business-financial-data-June-2022-quarter/Download-data/business-financial-data-june-2022-quarter-csv.zip\")\n",
    "df.head()"
   ]
  },
  {
   "cell_type": "markdown",
   "metadata": {},
   "source": [
    "Access the fourth row (**should you use .iloc[] or .loc[]?**) and store the result in the variable `row_4`. **What type is this variable?** "
   ]
  },
  {
   "cell_type": "code",
   "execution_count": 3,
   "metadata": {},
   "outputs": [
    {
     "data": {
      "text/plain": [
       "Series_reference                                      BDCQ.SF1AA2CA\n",
       "Period                                                      2017.03\n",
       "Data_value                                                  1010.66\n",
       "Suppressed                                                      NaN\n",
       "STATUS                                                            F\n",
       "UNITS                                                       Dollars\n",
       "Magnitude                                                         6\n",
       "Subject                              Business Data Collection - BDC\n",
       "Group               Industry by financial variable (NZSIOC Level 2)\n",
       "Series_title_1                             Sales (operating income)\n",
       "Series_title_2                                 Forestry and Logging\n",
       "Series_title_3                                       Current prices\n",
       "Series_title_4                                           Unadjusted\n",
       "Series_title_5                                                  NaN\n",
       "Name: 3, dtype: object"
      ]
     },
     "execution_count": 3,
     "metadata": {},
     "output_type": "execute_result"
    }
   ],
   "source": [
    "row_4 = df.iloc[3]\n",
    "type(row_4)\n",
    "row_4"
   ]
  },
  {
   "cell_type": "code",
   "execution_count": 4,
   "metadata": {},
   "outputs": [],
   "source": [
    "assert repr(row_4)=='Series_reference                                      BDCQ.SF1AA2CA\\nPeriod                                                      2017.03\\nData_value                                                  1010.66\\nSuppressed                                                      NaN\\nSTATUS                                                            F\\nUNITS                                                       Dollars\\nMagnitude                                                         6\\nSubject                              Business Data Collection - BDC\\nGroup               Industry by financial variable (NZSIOC Level 2)\\nSeries_title_1                             Sales (operating income)\\nSeries_title_2                                 Forestry and Logging\\nSeries_title_3                                       Current prices\\nSeries_title_4                                           Unadjusted\\nSeries_title_5                                                  NaN\\nName: 3, dtype: object'"
   ]
  },
  {
   "cell_type": "markdown",
   "metadata": {},
   "source": [
    "Now access the `Period` column in `row_4` and store the result in `period_row_4`."
   ]
  },
  {
   "cell_type": "code",
   "execution_count": 5,
   "metadata": {},
   "outputs": [],
   "source": [
    "period_row_4 = row_4[\"Period\"]"
   ]
  },
  {
   "cell_type": "code",
   "execution_count": 6,
   "metadata": {},
   "outputs": [],
   "source": [
    "assert period_row_4==2017.03"
   ]
  },
  {
   "cell_type": "markdown",
   "metadata": {},
   "source": [
    "Do the same thing as above for row 3 in one line and store the result in `period_row_3`."
   ]
  },
  {
   "cell_type": "code",
   "execution_count": 7,
   "metadata": {},
   "outputs": [],
   "source": [
    "period_row_3 = df.iloc[2][\"Period\"] # or:  df.loc[3, \"Period\"]"
   ]
  },
  {
   "cell_type": "code",
   "execution_count": 8,
   "metadata": {},
   "outputs": [],
   "source": [
    "assert period_row_3==2016.12"
   ]
  },
  {
   "cell_type": "markdown",
   "metadata": {},
   "source": [
    "Create a copy of `df` and store it in `df_2`. Then store only the columns `Series_reference`, `Period` and `Suppressed`."
   ]
  },
  {
   "cell_type": "code",
   "execution_count": 9,
   "metadata": {},
   "outputs": [],
   "source": [
    "df_2 = df.copy()\n",
    "df_2 = df_2[[\"Series_reference\", \"Period\", \"Suppressed\"]]"
   ]
  },
  {
   "cell_type": "code",
   "execution_count": 10,
   "metadata": {},
   "outputs": [],
   "source": [
    "assert repr(df_2)[0:100]=='     Series_reference   Period Suppressed\\n0       BDCQ.SF1AA2CA  2016.06        NaN\\n1       BDCQ.SF1'"
   ]
  },
  {
   "cell_type": "markdown",
   "metadata": {},
   "source": [
    "Set the `Series_reference` as Index (**Why is this possible? There are non-unique indeces!?**. Then create a new column `modified period` that has the values from `Period` multiplied by 2."
   ]
  },
  {
   "cell_type": "code",
   "execution_count": 11,
   "metadata": {},
   "outputs": [],
   "source": [
    "df_2 = df_2.set_index(\"Series_reference\")\n",
    "df_2[\"modified period\"] = df_2[\"Period\"] * 2"
   ]
  },
  {
   "cell_type": "code",
   "execution_count": 12,
   "metadata": {},
   "outputs": [
    {
     "data": {
      "text/html": [
       "<div>\n",
       "<style scoped>\n",
       "    .dataframe tbody tr th:only-of-type {\n",
       "        vertical-align: middle;\n",
       "    }\n",
       "\n",
       "    .dataframe tbody tr th {\n",
       "        vertical-align: top;\n",
       "    }\n",
       "\n",
       "    .dataframe thead th {\n",
       "        text-align: right;\n",
       "    }\n",
       "</style>\n",
       "<table border=\"1\" class=\"dataframe\">\n",
       "  <thead>\n",
       "    <tr style=\"text-align: right;\">\n",
       "      <th></th>\n",
       "      <th>Period</th>\n",
       "      <th>Suppressed</th>\n",
       "      <th>modified period</th>\n",
       "    </tr>\n",
       "    <tr>\n",
       "      <th>Series_reference</th>\n",
       "      <th></th>\n",
       "      <th></th>\n",
       "      <th></th>\n",
       "    </tr>\n",
       "  </thead>\n",
       "  <tbody>\n",
       "    <tr>\n",
       "      <th>BDCQ.SF1AA2CA</th>\n",
       "      <td>2016.06</td>\n",
       "      <td>NaN</td>\n",
       "      <td>4032.12</td>\n",
       "    </tr>\n",
       "    <tr>\n",
       "      <th>BDCQ.SF1AA2CA</th>\n",
       "      <td>2016.09</td>\n",
       "      <td>NaN</td>\n",
       "      <td>4032.18</td>\n",
       "    </tr>\n",
       "    <tr>\n",
       "      <th>BDCQ.SF1AA2CA</th>\n",
       "      <td>2016.12</td>\n",
       "      <td>NaN</td>\n",
       "      <td>4032.24</td>\n",
       "    </tr>\n",
       "    <tr>\n",
       "      <th>BDCQ.SF1AA2CA</th>\n",
       "      <td>2017.03</td>\n",
       "      <td>NaN</td>\n",
       "      <td>4034.06</td>\n",
       "    </tr>\n",
       "    <tr>\n",
       "      <th>BDCQ.SF1AA2CA</th>\n",
       "      <td>2017.06</td>\n",
       "      <td>NaN</td>\n",
       "      <td>4034.12</td>\n",
       "    </tr>\n",
       "    <tr>\n",
       "      <th>...</th>\n",
       "      <td>...</td>\n",
       "      <td>...</td>\n",
       "      <td>...</td>\n",
       "    </tr>\n",
       "    <tr>\n",
       "      <th>BDCQ.SF8RSCA</th>\n",
       "      <td>2021.06</td>\n",
       "      <td>NaN</td>\n",
       "      <td>4042.12</td>\n",
       "    </tr>\n",
       "    <tr>\n",
       "      <th>BDCQ.SF8RSCA</th>\n",
       "      <td>2021.09</td>\n",
       "      <td>NaN</td>\n",
       "      <td>4042.18</td>\n",
       "    </tr>\n",
       "    <tr>\n",
       "      <th>BDCQ.SF8RSCA</th>\n",
       "      <td>2021.12</td>\n",
       "      <td>NaN</td>\n",
       "      <td>4042.24</td>\n",
       "    </tr>\n",
       "    <tr>\n",
       "      <th>BDCQ.SF8RSCA</th>\n",
       "      <td>2022.03</td>\n",
       "      <td>NaN</td>\n",
       "      <td>4044.06</td>\n",
       "    </tr>\n",
       "    <tr>\n",
       "      <th>BDCQ.SF8RSCA</th>\n",
       "      <td>2022.06</td>\n",
       "      <td>NaN</td>\n",
       "      <td>4044.12</td>\n",
       "    </tr>\n",
       "  </tbody>\n",
       "</table>\n",
       "<p>5955 rows × 3 columns</p>\n",
       "</div>"
      ],
      "text/plain": [
       "                   Period Suppressed  modified period\n",
       "Series_reference                                     \n",
       "BDCQ.SF1AA2CA     2016.06        NaN          4032.12\n",
       "BDCQ.SF1AA2CA     2016.09        NaN          4032.18\n",
       "BDCQ.SF1AA2CA     2016.12        NaN          4032.24\n",
       "BDCQ.SF1AA2CA     2017.03        NaN          4034.06\n",
       "BDCQ.SF1AA2CA     2017.06        NaN          4034.12\n",
       "...                   ...        ...              ...\n",
       "BDCQ.SF8RSCA      2021.06        NaN          4042.12\n",
       "BDCQ.SF8RSCA      2021.09        NaN          4042.18\n",
       "BDCQ.SF8RSCA      2021.12        NaN          4042.24\n",
       "BDCQ.SF8RSCA      2022.03        NaN          4044.06\n",
       "BDCQ.SF8RSCA      2022.06        NaN          4044.12\n",
       "\n",
       "[5955 rows x 3 columns]"
      ]
     },
     "execution_count": 12,
     "metadata": {},
     "output_type": "execute_result"
    }
   ],
   "source": [
    "df_2"
   ]
  },
  {
   "cell_type": "markdown",
   "metadata": {},
   "source": [
    "Now sort the dataframe by the `Period` in descending order. Store only the first 10 row in `df_2` (use .head()) and then sort by index again."
   ]
  },
  {
   "cell_type": "code",
   "execution_count": 13,
   "metadata": {},
   "outputs": [],
   "source": [
    "df_2 = df_2.sort_values(by=\"Period\", ascending=False)\n",
    "df_2 = df_2.head(10)\n",
    "df_2 = df_2.sort_index()"
   ]
  },
  {
   "cell_type": "code",
   "execution_count": 14,
   "metadata": {},
   "outputs": [],
   "source": [
    "assert repr(df_2)[:100]=='                   Period Suppressed  modified period\\nSeries_reference                              '"
   ]
  }
 ],
 "metadata": {
  "kernelspec": {
   "display_name": "Python 3",
   "language": "python",
   "name": "python3"
  },
  "language_info": {
   "codemirror_mode": {
    "name": "ipython",
    "version": 3
   },
   "file_extension": ".py",
   "mimetype": "text/x-python",
   "name": "python",
   "nbconvert_exporter": "python",
   "pygments_lexer": "ipython3",
   "version": "3.8.5"
  }
 },
 "nbformat": 4,
 "nbformat_minor": 4
}
