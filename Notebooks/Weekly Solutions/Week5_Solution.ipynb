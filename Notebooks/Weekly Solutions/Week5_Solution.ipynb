{
 "cells": [
  {
   "cell_type": "markdown",
   "metadata": {},
   "source": [
    "# Notebook 5"
   ]
  },
  {
   "cell_type": "markdown",
   "metadata": {},
   "source": [
    "## Intro"
   ]
  },
  {
   "cell_type": "markdown",
   "metadata": {},
   "source": [
    "Create a class `Car` with a class attribute `owner` equaling `\"Elon\"`. Instantiate an object of this class called `car`. Create a second object called `car2` and change the owner to `\"Peter\"`. Then print both car's owner."
   ]
  },
  {
   "cell_type": "code",
   "execution_count": 1,
   "metadata": {},
   "outputs": [
    {
     "name": "stdout",
     "output_type": "stream",
     "text": [
      "Elon\n",
      "Peter\n"
     ]
    }
   ],
   "source": [
    "class Car:\n",
    "    owner = \"Elon\"\n",
    "\n",
    "car = Car()\n",
    "\n",
    "car2 = Car()\n",
    "car2.owner = \"Peter\"\n",
    "\n",
    "print(car.owner)\n",
    "print(car2.owner)"
   ]
  },
  {
   "cell_type": "code",
   "execution_count": 2,
   "metadata": {},
   "outputs": [],
   "source": [
    "assert car.owner == \"Elon\"\n",
    "assert car2.owner == \"Peter\""
   ]
  },
  {
   "cell_type": "markdown",
   "metadata": {},
   "source": [
    "Using different variable values for each instance/object is what a custom class is perfect for. But doing it in the way above by changing the class attributes instead of the instance attributes doesn't make that much sense. Define the same class now with an instance attribute instead of class attribute. Then instatiate two objects and make the first belong to `\"Elon\"` and the second belong to `\"Peter\"`."
   ]
  },
  {
   "cell_type": "code",
   "execution_count": 3,
   "metadata": {},
   "outputs": [
    {
     "name": "stdout",
     "output_type": "stream",
     "text": [
      "Elon\n",
      "Peter\n"
     ]
    }
   ],
   "source": [
    "class Car:\n",
    "    \n",
    "    def __init__(self, owner):\n",
    "        self.owner = owner\n",
    "\n",
    "car = Car(\"Elon\")\n",
    "car2 = Car(\"Peter\")\n",
    "\n",
    "print(car.owner)\n",
    "print(car2.owner)"
   ]
  },
  {
   "cell_type": "code",
   "execution_count": 4,
   "metadata": {},
   "outputs": [],
   "source": [
    "assert car.owner == \"Elon\"\n",
    "assert car2.owner == \"Peter\""
   ]
  },
  {
   "cell_type": "markdown",
   "metadata": {},
   "source": [
    "Try printing car or car2. Wouldn't it be nice if printing the car object would directly return it's owner? Implement this with an f-string. **Why did we not implement this by overwriting the __repr__ method?**"
   ]
  },
  {
   "cell_type": "code",
   "execution_count": 5,
   "metadata": {},
   "outputs": [
    {
     "name": "stdout",
     "output_type": "stream",
     "text": [
      "<__main__.Car object at 0x0000018F959EB370>\n",
      "<__main__.Car object at 0x0000018F95A462B0>\n",
      "I belong to Elon.\n",
      "I belong to Peter.\n"
     ]
    }
   ],
   "source": [
    "print(car)\n",
    "print(car2)\n",
    "\n",
    "class Car:\n",
    "    \n",
    "    def __init__(self, owner):\n",
    "        self.owner = owner\n",
    "    \n",
    "    def __str__(self):\n",
    "        return f\"I belong to {self.owner}.\"\n",
    "\n",
    "    \n",
    "car = Car(\"Elon\")\n",
    "car2 = Car(\"Peter\")\n",
    "\n",
    "print(car)\n",
    "print(car2)"
   ]
  },
  {
   "cell_type": "code",
   "execution_count": 6,
   "metadata": {},
   "outputs": [],
   "source": [
    "assert car.__str__() == \"I belong to Elon.\"\n",
    "assert car2.__str__() == \"I belong to Peter.\""
   ]
  },
  {
   "cell_type": "markdown",
   "metadata": {},
   "source": [
    "Elon buys Peters car. Reflect this by changing the owner variable of car2. Then print car2."
   ]
  },
  {
   "cell_type": "code",
   "execution_count": 7,
   "metadata": {},
   "outputs": [
    {
     "name": "stdout",
     "output_type": "stream",
     "text": [
      "I belong to Elon.\n"
     ]
    }
   ],
   "source": [
    "car2.owner = \"Elon\"\n",
    "print(car2)"
   ]
  },
  {
   "cell_type": "code",
   "execution_count": 8,
   "metadata": {},
   "outputs": [],
   "source": [
    "assert car2.__str__() == \"I belong to Elon.\""
   ]
  },
  {
   "cell_type": "markdown",
   "metadata": {},
   "source": [
    "## Proper OOP"
   ]
  },
  {
   "cell_type": "markdown",
   "metadata": {},
   "source": [
    "Let's do this properly:\n",
    "\n",
    "Define a class `Car` that can be instantiated with the instance variables `name`, `owner`, `typ` and `launchcode`. Make the name, owner & type private and the launchcode hidden. The typ defaults to `\"gas\"`. The launchcode defaults to `\"123\"`.\n",
    "\n",
    "Overwrite the print function so that it will print the values for name and owner in the following format: `Name: Owner`.\n",
    "\n",
    "Define a method called `change_owner` to change the owner of the car. Define a method called `launch` that returns the launchcode. Define a method called `set_speed` that changes the (private) speed attribute of a car.\n",
    "\n",
    "Now instantiate a variable `car` with the name `Vantage` and the owner `Elon`. Print the car. Print the name and owner directly by accessing the variables. Try printing the launchode with `car.__launchcode` and comment out this line. Explain your findings and then use the `.launch` function to get the launchcode. Now set the speed to 200 by using the appropriate method and print the speed."
   ]
  },
  {
   "cell_type": "code",
   "execution_count": 9,
   "metadata": {},
   "outputs": [
    {
     "name": "stdout",
     "output_type": "stream",
     "text": [
      "Vantage: Elon\n",
      "Vantage\n",
      "Elon\n",
      "123\n",
      "200\n"
     ]
    }
   ],
   "source": [
    "class Car:\n",
    "    \n",
    "    def __init__(self, name, owner, typ=\"gas\", launchcode=\"123\"):\n",
    "        self._name = name\n",
    "        self._owner = owner\n",
    "        self._typ = typ\n",
    "        self.__launchcode = launchcode\n",
    "    \n",
    "    def __str__(self):\n",
    "        return f\"{self._name}: {self._owner}\"\n",
    "    \n",
    "    def change_owner(self, new_owner):\n",
    "        self._owner = new_owner\n",
    "    \n",
    "    def launch(self):\n",
    "        return self.__launchcode\n",
    "    \n",
    "    def set_speed(self, speed):\n",
    "        self._speed = speed\n",
    "\n",
    "car = Car(\"Vantage\", \"Elon\")\n",
    "print(car)\n",
    "print(car._name)\n",
    "print(car._owner)\n",
    "# print(car.__launchcode)\n",
    "print(car.launch())\n",
    "car.set_speed(200)\n",
    "print(car._speed)"
   ]
  },
  {
   "cell_type": "code",
   "execution_count": 10,
   "metadata": {},
   "outputs": [],
   "source": [
    "assert car.__str__() == \"Vantage: Elon\"\n",
    "assert car.launch() == \"123\"\n",
    "assert car.__dict__ == {'_name': 'Vantage', '_owner': 'Elon', '_Car__launchcode': '123', '_speed': 200, '_typ': \"gas\"}\n",
    "assert dir(car) == ['_Car__launchcode',\n",
    " '__class__',\n",
    " '__delattr__',\n",
    " '__dict__',\n",
    " '__dir__',\n",
    " '__doc__',\n",
    " '__eq__',\n",
    " '__format__',\n",
    " '__ge__',\n",
    " '__getattribute__',\n",
    " '__gt__',\n",
    " '__hash__',\n",
    " '__init__',\n",
    " '__init_subclass__',\n",
    " '__le__',\n",
    " '__lt__',\n",
    " '__module__',\n",
    " '__ne__',\n",
    " '__new__',\n",
    " '__reduce__',\n",
    " '__reduce_ex__',\n",
    " '__repr__',\n",
    " '__setattr__',\n",
    " '__sizeof__',\n",
    " '__str__',\n",
    " '__subclasshook__',\n",
    " '__weakref__',\n",
    " '_name',\n",
    " '_owner',\n",
    " '_speed',\n",
    " '_typ',\n",
    " 'change_owner',\n",
    " 'launch',\n",
    " 'set_speed']"
   ]
  },
  {
   "cell_type": "markdown",
   "metadata": {},
   "source": [
    "Now define a class `Electric_car` inheriting from Car. Change the __init__ method so that the type is `\"electric\"`. Create the instance `car` with the parameters `\"Tesla\"` and `\"Elon\"`."
   ]
  },
  {
   "cell_type": "code",
   "execution_count": 11,
   "metadata": {},
   "outputs": [
    {
     "name": "stdout",
     "output_type": "stream",
     "text": [
      "electric\n"
     ]
    }
   ],
   "source": [
    "class Electric_car(Car):\n",
    "    \n",
    "    def __init__(self, name, owner):\n",
    "        super().__init__(name, owner, \"electric\")\n",
    "\n",
    "car = Electric_car(\"Tesla\", \"Elon\")\n",
    "print(car._typ)"
   ]
  },
  {
   "cell_type": "code",
   "execution_count": 12,
   "metadata": {},
   "outputs": [],
   "source": [
    "assert car._typ == \"electric\""
   ]
  }
 ],
 "metadata": {
  "kernelspec": {
   "display_name": "Python 3",
   "language": "python",
   "name": "python3"
  },
  "language_info": {
   "codemirror_mode": {
    "name": "ipython",
    "version": 3
   },
   "file_extension": ".py",
   "mimetype": "text/x-python",
   "name": "python",
   "nbconvert_exporter": "python",
   "pygments_lexer": "ipython3",
   "version": "3.8.5"
  }
 },
 "nbformat": 4,
 "nbformat_minor": 4
}
