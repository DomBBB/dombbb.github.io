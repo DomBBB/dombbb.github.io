{
 "cells": [
  {
   "cell_type": "markdown",
   "metadata": {},
   "source": [
    "# Notebook 1"
   ]
  },
  {
   "cell_type": "markdown",
   "metadata": {},
   "source": [
    "## Variables"
   ]
  },
  {
   "cell_type": "markdown",
   "metadata": {},
   "source": [
    "Define the variable `x` without assigning a value to the variable. Execute the test cell below (no error means it passed)."
   ]
  },
  {
   "cell_type": "code",
   "execution_count": 1,
   "metadata": {},
   "outputs": [],
   "source": [
    "# This is not possible in Python."
   ]
  },
  {
   "cell_type": "code",
   "execution_count": 2,
   "metadata": {},
   "outputs": [],
   "source": [
    "ans = \"xc rdcigpgn id diwtg egdvgpbbxcv apcvjpvth ndj rpc cdi stuxct p kpgxpqat xc eniwdc lxiwdji phhxvcxcv pcn kpajt id xi\"\n",
    "assert \"x\" not in dir(), \"\".join([chr((ord(x) - 112) % 26 + 97) if x!=\" \" else \" \" for x in ans])"
   ]
  },
  {
   "cell_type": "markdown",
   "metadata": {},
   "source": [
    "Define the variable `y` and assign the value `6` to it. Execute the test cell below (no error means it passed)."
   ]
  },
  {
   "cell_type": "code",
   "execution_count": 3,
   "metadata": {},
   "outputs": [],
   "source": [
    "y = 6"
   ]
  },
  {
   "cell_type": "code",
   "execution_count": 4,
   "metadata": {},
   "outputs": [],
   "source": [
    "assert y==6, \"there's a mistake\""
   ]
  },
  {
   "cell_type": "markdown",
   "metadata": {},
   "source": [
    "Define the variable `z` being equal to the variable `y` without writing the number again. Then assign the value `\"Hello\"` to the variable `y`. Execute the test cell below (no error means it passed)."
   ]
  },
  {
   "cell_type": "code",
   "execution_count": 5,
   "metadata": {},
   "outputs": [],
   "source": [
    "z = y\n",
    "y = \"Hello\""
   ]
  },
  {
   "cell_type": "code",
   "execution_count": 6,
   "metadata": {},
   "outputs": [],
   "source": [
    "assert z==6, \"there's a mistake\"\n",
    "assert y==\"Hello\", \"there's a mistake\"\n",
    "assert \"6\" not in _ih[-2], \"you wrote the number again\""
   ]
  },
  {
   "cell_type": "markdown",
   "metadata": {},
   "source": [
    "## Comments"
   ]
  },
  {
   "cell_type": "markdown",
   "metadata": {},
   "source": [
    "Write a comment and execute the cell. Execute the test cell below (no error means it passed)."
   ]
  },
  {
   "cell_type": "code",
   "execution_count": 7,
   "metadata": {},
   "outputs": [],
   "source": [
    "# Hello"
   ]
  },
  {
   "cell_type": "code",
   "execution_count": 8,
   "metadata": {},
   "outputs": [],
   "source": [
    "assert chr(ord(\"\\x1c\") + 7) in _ih[-2], \"there's a mistake\""
   ]
  },
  {
   "cell_type": "markdown",
   "metadata": {},
   "source": [
    "## Numbers"
   ]
  },
  {
   "cell_type": "markdown",
   "metadata": {},
   "source": [
    "Define the variable `a` being equal to pi with 3 significant digits. Store its type in variable `at`. What type is this?\n",
    "\n",
    "Then define the variable `b` being equal to one hundred. Store its type in variable `bt`. What type is this?\n",
    "\n",
    "Execute the test cell below (no error means it passed)."
   ]
  },
  {
   "cell_type": "code",
   "execution_count": 9,
   "metadata": {},
   "outputs": [],
   "source": [
    "a = 3.14\n",
    "at = type(a)\n",
    "\n",
    "b = 100\n",
    "bt = type(b)"
   ]
  },
  {
   "cell_type": "code",
   "execution_count": 10,
   "metadata": {},
   "outputs": [],
   "source": [
    "assert a==1042%728/100, \"there's a mistake in the result\"\n",
    "assert b==735//6%121*100, \"there's a mistake in the result\"\n",
    "assert repr(at) == \"<class 'float'>\", \"you didn't store the type properly\"\n",
    "assert repr(at) == \"<class 'float'>\", \"you didn't store the type properly\""
   ]
  },
  {
   "cell_type": "markdown",
   "metadata": {},
   "source": [
    "Define the variable `c` being equal to the remainder of 100 divided by 9 (use the modulo operator). Execute the test cell below (no error means it passed)."
   ]
  },
  {
   "cell_type": "code",
   "execution_count": 11,
   "metadata": {},
   "outputs": [],
   "source": [
    "c = 100%9"
   ]
  },
  {
   "cell_type": "code",
   "execution_count": 12,
   "metadata": {},
   "outputs": [],
   "source": [
    "assert c==37//36, \"there's a mistake in the result\"\n",
    "assert chr(ord(\"\\x1e\") + 7) in _ih[-2], \"you didn't use the modulo operator\""
   ]
  },
  {
   "cell_type": "markdown",
   "metadata": {},
   "source": [
    "Define the variable `d` being equal to the remainder of any even number divided by 2 (use the modulo operator).\n",
    "\n",
    "Define the variable `e` being equal to the remainder of any odd number divided by 2 (use the modulo operator).\n",
    "\n",
    "Execute the test cell below (no error means it passed)."
   ]
  },
  {
   "cell_type": "code",
   "execution_count": 13,
   "metadata": {},
   "outputs": [],
   "source": [
    "d = 26%2\n",
    "e = 25%2"
   ]
  },
  {
   "cell_type": "code",
   "execution_count": 14,
   "metadata": {},
   "outputs": [],
   "source": [
    "assert d==49//50, \"there's a mistake in the result\"\n",
    "assert e==49//48, \"there's a mistake in the result\"\n",
    "assert chr(ord(\"\\x1e\") + 7) in _ih[-2], \"you didn't use the modulo operator\""
   ]
  },
  {
   "cell_type": "markdown",
   "metadata": {},
   "source": [
    "## Words"
   ]
  },
  {
   "cell_type": "markdown",
   "metadata": {},
   "source": [
    "Define the variable `a_string` to be equal to the word `hello` and the variable `a_number` to be equal to the number `5 REPRESENTED as a string`."
   ]
  },
  {
   "cell_type": "code",
   "execution_count": 15,
   "metadata": {},
   "outputs": [],
   "source": [
    "a_string = \"hello\"\n",
    "a_number = \"5\""
   ]
  },
  {
   "cell_type": "code",
   "execution_count": 16,
   "metadata": {},
   "outputs": [],
   "source": [
    "assert a_string == \"hello\", \"there's a mistake\"\n",
    "assert a_number == \"5\", \"there's a mistake\""
   ]
  },
  {
   "cell_type": "markdown",
   "metadata": {},
   "source": [
    "**Can you explain the difference between a_number and the variable a (=pi) from before? Why will a_number+15 raise an error and a_number\\*2 will work**?"
   ]
  },
  {
   "cell_type": "code",
   "execution_count": 17,
   "metadata": {},
   "outputs": [
    {
     "ename": "TypeError",
     "evalue": "can only concatenate str (not \"int\") to str",
     "output_type": "error",
     "traceback": [
      "\u001b[1;31m---------------------------------------------------------------------------\u001b[0m",
      "\u001b[1;31mTypeError\u001b[0m                                 Traceback (most recent call last)",
      "\u001b[1;32m<ipython-input-17-015d0e3cbd77>\u001b[0m in \u001b[0;36m<module>\u001b[1;34m\u001b[0m\n\u001b[1;32m----> 1\u001b[1;33m \u001b[0mprint\u001b[0m\u001b[1;33m(\u001b[0m\u001b[0ma_number\u001b[0m \u001b[1;33m+\u001b[0m \u001b[1;36m15\u001b[0m\u001b[1;33m)\u001b[0m\u001b[1;33m\u001b[0m\u001b[1;33m\u001b[0m\u001b[0m\n\u001b[0m",
      "\u001b[1;31mTypeError\u001b[0m: can only concatenate str (not \"int\") to str"
     ]
    }
   ],
   "source": [
    "print(a_number + 15)"
   ]
  },
  {
   "cell_type": "code",
   "execution_count": 18,
   "metadata": {},
   "outputs": [
    {
     "name": "stdout",
     "output_type": "stream",
     "text": [
      "55\n"
     ]
    }
   ],
   "source": [
    "print(a_number * 2)"
   ]
  },
  {
   "cell_type": "markdown",
   "metadata": {},
   "source": [
    "## Print"
   ]
  },
  {
   "cell_type": "markdown",
   "metadata": {},
   "source": [
    "Print the words `Hello World!` using the function `print()`.\n",
    "\n",
    "Print the type of `Hello World!` using the function `print()` and `type()`."
   ]
  },
  {
   "cell_type": "code",
   "execution_count": 19,
   "metadata": {},
   "outputs": [
    {
     "name": "stdout",
     "output_type": "stream",
     "text": [
      "Hello World!\n",
      "<class 'str'>\n"
     ]
    }
   ],
   "source": [
    "print(\"Hello World!\")\n",
    "print(type(\"Hello World!\"))"
   ]
  },
  {
   "cell_type": "code",
   "execution_count": 20,
   "metadata": {},
   "outputs": [],
   "source": [
    "assert 'print(\"' in _ih[-2], \"there's a mistake\"\n",
    "assert 'print(type(\"' in _ih[-2], \"there's a mistake\""
   ]
  },
  {
   "cell_type": "markdown",
   "metadata": {},
   "source": [
    "**Do you understand the difference between printing a value and assigning a value to a variable?** If unsure ask your TA about it."
   ]
  },
  {
   "cell_type": "markdown",
   "metadata": {},
   "source": [
    "## Input & Type Casting"
   ]
  },
  {
   "cell_type": "markdown",
   "metadata": {},
   "source": [
    "Define the variables `x` being integer 5 and `z` being float 4.2. Then do the following mathematical operations and store their type accordingly. **Try to predict what the type is before printing it. Remember that Python does implicit type conversion in some cases.**\n",
    "\n",
    "a = x * x; \n",
    "at = type of a; \n",
    "print(at)\n",
    "\n",
    "b = x * z; \n",
    "bt = type of b; \n",
    "print(bt)\n",
    "\n",
    "c = x / x; \n",
    "ct = type of c; \n",
    "print(ct)\n",
    "\n",
    "d = x / z; \n",
    "dt = type of d; \n",
    "print(dt)\n",
    "\n",
    "e = x // x; \n",
    "et = type of e; \n",
    "print(et)\n",
    "\n",
    "f = x // z; \n",
    "ft = type of f; \n",
    "print(ft)"
   ]
  },
  {
   "cell_type": "code",
   "execution_count": 21,
   "metadata": {},
   "outputs": [
    {
     "name": "stdout",
     "output_type": "stream",
     "text": [
      "<class 'int'>\n",
      "<class 'float'>\n",
      "<class 'float'>\n",
      "<class 'float'>\n",
      "<class 'int'>\n",
      "<class 'float'>\n"
     ]
    }
   ],
   "source": [
    "x = 5\n",
    "z = 4.2\n",
    "\n",
    "a = x * x\n",
    "at = type(a)\n",
    "print(at)\n",
    "\n",
    "b = x * z\n",
    "bt = type(b)\n",
    "print(bt)\n",
    "\n",
    "c = x / x\n",
    "ct = type(c)\n",
    "print(ct)\n",
    "\n",
    "d = x / z\n",
    "dt = type(d)\n",
    "print(dt)\n",
    "\n",
    "e = x // x\n",
    "et = type(e)\n",
    "print(et)\n",
    "\n",
    "f = x // z\n",
    "ft = type(f)\n",
    "print(ft)"
   ]
  },
  {
   "cell_type": "code",
   "execution_count": 22,
   "metadata": {},
   "outputs": [],
   "source": [
    "assert a==25 and b==21.0 and c==1.0 and d==1.1904761904761905 and e==1 and f==1.0, \"there's a mistake in your calculations\"\n",
    "assert repr(at) == \"<class 'int'>\", \"you didn't store the type of a properly\"\n",
    "assert repr(bt) == \"<class 'float'>\", \"you didn't store the type of b properly\"\n",
    "assert repr(ct) == \"<class 'float'>\", \"you didn't store the type of c properly\"\n",
    "assert repr(dt) == \"<class 'float'>\", \"you didn't store the type of d properly\"\n",
    "assert repr(et) == \"<class 'int'>\", \"you didn't store the type of e properly\"\n",
    "assert repr(ft) == \"<class 'float'>\", \"you didn't store the type of f properly\""
   ]
  },
  {
   "cell_type": "markdown",
   "metadata": {},
   "source": [
    "Define the variables `it` being integer 5, `flt` being float 4.2. Then store the sum of both in the variable `result` with the restriction that the variable should be an integer at the end."
   ]
  },
  {
   "cell_type": "code",
   "execution_count": 23,
   "metadata": {},
   "outputs": [],
   "source": [
    "it = 5\n",
    "flt = 4.2\n",
    "result = int(it+flt)"
   ]
  },
  {
   "cell_type": "code",
   "execution_count": 24,
   "metadata": {},
   "outputs": [],
   "source": [
    "assert it==5, \"wrong number\"\n",
    "assert flt==4.2, \"wrong number\"\n",
    "assert repr(result) == \"9\", \"wrong type\""
   ]
  },
  {
   "cell_type": "markdown",
   "metadata": {},
   "source": [
    "Now create another variable `result2` which should be a float version of the variable `result`. Do not use any mathematical operation in this cell."
   ]
  },
  {
   "cell_type": "code",
   "execution_count": 25,
   "metadata": {},
   "outputs": [],
   "source": [
    "result2 = float(result)"
   ]
  },
  {
   "cell_type": "code",
   "execution_count": 26,
   "metadata": {},
   "outputs": [],
   "source": [
    "assert repr(result2) == \"9.0\", \"wrong type\"\n",
    "assert \"+\" not in _ih[-2] and \"sum\" not in _ih[-2], \"you used mathematical operations\""
   ]
  },
  {
   "cell_type": "markdown",
   "metadata": {},
   "source": [
    "Define a variable `answer` being 5 times an integer (no decimals) you asked the user for input. **What happens if you try a float (e.g. 5.0) or some text?**"
   ]
  },
  {
   "cell_type": "code",
   "execution_count": 27,
   "metadata": {},
   "outputs": [],
   "source": [
    "# This does not work properly in the online version:\n",
    "# answer = 5 * int(input(\"Enter a number: \"))"
   ]
  },
  {
   "cell_type": "code",
   "execution_count": null,
   "metadata": {},
   "outputs": [],
   "source": [
    "assert repr(type(answer)) == \"<class 'int'>\", \"you didn't do the type conversion properly\""
   ]
  },
  {
   "cell_type": "markdown",
   "metadata": {},
   "source": [
    "Define a variable `string1` being \"10\" (string 10) and a variable `string2` being \"3.6\" (string 3.6).\n",
    "\n",
    "Then convert the variables so you can use them for the following variables: `number1` being 25 + string1; `number2` being 10 * string2."
   ]
  },
  {
   "cell_type": "code",
   "execution_count": 28,
   "metadata": {},
   "outputs": [],
   "source": [
    "string1 = \"10\"\n",
    "string2 = \"3.6\"\n",
    "\n",
    "number1 = 25 + int(string1)\n",
    "number2 = 10 * float(string2)"
   ]
  },
  {
   "cell_type": "code",
   "execution_count": 29,
   "metadata": {},
   "outputs": [],
   "source": [
    "assert string1==\"10\" and string2==\"3.6\", \"wrong type\"\n",
    "assert number1==35 and number2==36.0, \"wrong type or number\"\n",
    "assert \"int\" in _ih[-2] and \"float\" in _ih[-2], \"you did not do proper type conversion\""
   ]
  },
  {
   "cell_type": "markdown",
   "metadata": {},
   "source": [
    "Define the variable `age` to be any number the user enters (use the `input()` function)."
   ]
  },
  {
   "cell_type": "code",
   "execution_count": 31,
   "metadata": {},
   "outputs": [],
   "source": [
    "# This does not work properly in the online version:\n",
    "# age = int(input(\"Enter your age: \"))\n",
    "age = \"24\""
   ]
  },
  {
   "cell_type": "code",
   "execution_count": 32,
   "metadata": {},
   "outputs": [],
   "source": [
    "assert repr(type(age)) == \"<class 'str'>\", \"wrong type\""
   ]
  },
  {
   "cell_type": "markdown",
   "metadata": {},
   "source": [
    "Now create a new variable `age2` which is equal to `age` + 10."
   ]
  },
  {
   "cell_type": "code",
   "execution_count": 33,
   "metadata": {},
   "outputs": [],
   "source": [
    "age2 = int(age) + 10"
   ]
  },
  {
   "cell_type": "code",
   "execution_count": 34,
   "metadata": {},
   "outputs": [],
   "source": [
    "assert age2 == int(age) + 10, \"wrong number\"\n",
    "assert \"int\" in _ih[-2] and \"input\" not in _ih[-2], \"you did not do proper type conversion\""
   ]
  },
  {
   "cell_type": "markdown",
   "metadata": {},
   "source": [
    "## Errors: Understand Tracebacks"
   ]
  },
  {
   "cell_type": "markdown",
   "metadata": {},
   "source": [
    "**Execute the function below. Let's try to understand this Traceback together:**"
   ]
  },
  {
   "cell_type": "code",
   "execution_count": 35,
   "metadata": {},
   "outputs": [
    {
     "ename": "NameError",
     "evalue": "name 'l' is not defined",
     "output_type": "error",
     "traceback": [
      "\u001b[1;31m---------------------------------------------------------------------------\u001b[0m",
      "\u001b[1;31mNameError\u001b[0m                                 Traceback (most recent call last)",
      "\u001b[1;32m<ipython-input-35-26fe1d2940b2>\u001b[0m in \u001b[0;36m<module>\u001b[1;34m\u001b[0m\n\u001b[0;32m      8\u001b[0m     \u001b[1;32mreturn\u001b[0m \u001b[0ml\u001b[0m\u001b[1;33m/\u001b[0m\u001b[1;36m28\u001b[0m \u001b[1;31m# divides the number passed as argument to this function by 28\u001b[0m\u001b[1;33m\u001b[0m\u001b[1;33m\u001b[0m\u001b[0m\n\u001b[0;32m      9\u001b[0m \u001b[1;33m\u001b[0m\u001b[0m\n\u001b[1;32m---> 10\u001b[1;33m \u001b[0mrandom_function\u001b[0m\u001b[1;33m(\u001b[0m\u001b[1;36m12\u001b[0m\u001b[1;33m,\u001b[0m \u001b[1;36m27\u001b[0m\u001b[1;33m,\u001b[0m \u001b[1;36m39\u001b[0m\u001b[1;33m)\u001b[0m\u001b[1;33m\u001b[0m\u001b[1;33m\u001b[0m\u001b[0m\n\u001b[0m",
      "\u001b[1;32m<ipython-input-35-26fe1d2940b2>\u001b[0m in \u001b[0;36mrandom_function\u001b[1;34m(x, y, z)\u001b[0m\n\u001b[0;32m      1\u001b[0m \u001b[1;32mdef\u001b[0m \u001b[0mrandom_function\u001b[0m\u001b[1;33m(\u001b[0m\u001b[0mx\u001b[0m\u001b[1;33m,\u001b[0m \u001b[0my\u001b[0m\u001b[1;33m,\u001b[0m \u001b[0mz\u001b[0m\u001b[1;33m)\u001b[0m\u001b[1;33m:\u001b[0m\u001b[1;33m\u001b[0m\u001b[1;33m\u001b[0m\u001b[0m\n\u001b[1;32m----> 2\u001b[1;33m     \u001b[0ml\u001b[0m \u001b[1;33m=\u001b[0m \u001b[0mrandom_function2\u001b[0m\u001b[1;33m(\u001b[0m\u001b[0mx\u001b[0m \u001b[1;33m*\u001b[0m \u001b[0my\u001b[0m\u001b[1;33m)\u001b[0m\u001b[1;33m\u001b[0m\u001b[1;33m\u001b[0m\u001b[0m\n\u001b[0m\u001b[0;32m      3\u001b[0m     \u001b[0mb\u001b[0m \u001b[1;33m=\u001b[0m \u001b[0mx\u001b[0m \u001b[1;33m+\u001b[0m \u001b[0my\u001b[0m \u001b[1;33m+\u001b[0m \u001b[0mz\u001b[0m\u001b[1;33m\u001b[0m\u001b[1;33m\u001b[0m\u001b[0m\n\u001b[0;32m      4\u001b[0m     \u001b[0mc\u001b[0m \u001b[1;33m=\u001b[0m \u001b[1;33m[\u001b[0m\u001b[0mx\u001b[0m\u001b[1;33m**\u001b[0m\u001b[1;36m2\u001b[0m \u001b[1;32mfor\u001b[0m \u001b[0mx\u001b[0m \u001b[1;32min\u001b[0m \u001b[1;33m[\u001b[0m\u001b[0ml\u001b[0m\u001b[1;33m]\u001b[0m\u001b[1;33m+\u001b[0m\u001b[0mlist\u001b[0m\u001b[1;33m(\u001b[0m\u001b[0mint\u001b[0m\u001b[1;33m(\u001b[0m\u001b[0mx\u001b[0m\u001b[1;33m)\u001b[0m \u001b[1;32mfor\u001b[0m \u001b[0mx\u001b[0m \u001b[1;32min\u001b[0m \u001b[0mstr\u001b[0m\u001b[1;33m(\u001b[0m\u001b[0mb\u001b[0m\u001b[1;33m)\u001b[0m\u001b[1;33m)\u001b[0m\u001b[1;33m]\u001b[0m\u001b[1;33m\u001b[0m\u001b[1;33m\u001b[0m\u001b[0m\n\u001b[0;32m      5\u001b[0m     \u001b[1;32mreturn\u001b[0m \u001b[0mc\u001b[0m\u001b[1;33m\u001b[0m\u001b[1;33m\u001b[0m\u001b[0m\n",
      "\u001b[1;32m<ipython-input-35-26fe1d2940b2>\u001b[0m in \u001b[0;36mrandom_function2\u001b[1;34m(x)\u001b[0m\n\u001b[0;32m      6\u001b[0m \u001b[1;33m\u001b[0m\u001b[0m\n\u001b[0;32m      7\u001b[0m \u001b[1;32mdef\u001b[0m \u001b[0mrandom_function2\u001b[0m\u001b[1;33m(\u001b[0m\u001b[0mx\u001b[0m\u001b[1;33m)\u001b[0m\u001b[1;33m:\u001b[0m\u001b[1;33m\u001b[0m\u001b[1;33m\u001b[0m\u001b[0m\n\u001b[1;32m----> 8\u001b[1;33m     \u001b[1;32mreturn\u001b[0m \u001b[0ml\u001b[0m\u001b[1;33m/\u001b[0m\u001b[1;36m28\u001b[0m \u001b[1;31m# divides the number passed as argument to this function by 28\u001b[0m\u001b[1;33m\u001b[0m\u001b[1;33m\u001b[0m\u001b[0m\n\u001b[0m\u001b[0;32m      9\u001b[0m \u001b[1;33m\u001b[0m\u001b[0m\n\u001b[0;32m     10\u001b[0m \u001b[0mrandom_function\u001b[0m\u001b[1;33m(\u001b[0m\u001b[1;36m12\u001b[0m\u001b[1;33m,\u001b[0m \u001b[1;36m27\u001b[0m\u001b[1;33m,\u001b[0m \u001b[1;36m39\u001b[0m\u001b[1;33m)\u001b[0m\u001b[1;33m\u001b[0m\u001b[1;33m\u001b[0m\u001b[0m\n",
      "\u001b[1;31mNameError\u001b[0m: name 'l' is not defined"
     ]
    }
   ],
   "source": [
    "def random_function(x, y, z):\n",
    "    l = random_function2(x * y)\n",
    "    b = x + y + z\n",
    "    c = [x**2 for x in [l]+list(int(x) for x in str(b))]\n",
    "    return c\n",
    "\n",
    "def random_function2(x):\n",
    "    return l/28 # divides the number passed as argument to this function by 28\n",
    "\n",
    "random_function(12, 27, 39)"
   ]
  },
  {
   "cell_type": "markdown",
   "metadata": {},
   "source": [
    "In the first row you can see the error **NameError** in what we call the traceback (tracing back the error). Then it shows chronologically how said error was created.\n",
    "    \n",
    "The arrow in the first block shows us that the first thing that was executed which resulted in this error was the function call to `random_function` (see: in module) with some parameters.\n",
    "    \n",
    "The second arrow (in the second block) shows us that within this `random_function` (see: in random_function(x, y, z)) another function called `random_function2` was executed which ultimately resulted in this error.\n",
    "    \n",
    "The third arrow (in the third/**last** block) then shows us that within this `random_function2` (see: in random_function2(x)) the line \"return l/28\" caused the error.\n",
    "    \n",
    "We can then see in the last row that **NameError** means, that a certain name was not defined. Indeed within this function we did not define the name `l` and can therefore not use it. With some practice you'll understand most of these errors directly (or by looking at the last block) but it can be useful some times to check the whole history chronologically to understand where your program behaves differently than you wanted it to behave.\n",
    "    \n",
    "**Now you can fix the code in the cell below**. If you don't get an error anymore when running the cell, you fixed it."
   ]
  },
  {
   "cell_type": "code",
   "execution_count": 36,
   "metadata": {},
   "outputs": [
    {
     "data": {
      "text/plain": [
       "[133.89795918367346, 49, 64]"
      ]
     },
     "execution_count": 36,
     "metadata": {},
     "output_type": "execute_result"
    }
   ],
   "source": [
    "# Code fixed by changing the return in \"random_function2\" to x instead of l\n",
    "\n",
    "def random_function(x, y, z):\n",
    "    l = random_function2(x * y)\n",
    "    b = x + y + z\n",
    "    c = [x**2 for x in [l]+list(int(x) for x in str(b))]\n",
    "    return c\n",
    "\n",
    "def random_function2(x):\n",
    "    return x/28 # divides the number passed as argument to this function by 28\n",
    "\n",
    "random_function(12, 27, 39)"
   ]
  }
 ],
 "metadata": {
  "kernelspec": {
   "display_name": "Python 3",
   "language": "python",
   "name": "python3"
  },
  "language_info": {
   "codemirror_mode": {
    "name": "ipython",
    "version": 3
   },
   "file_extension": ".py",
   "mimetype": "text/x-python",
   "name": "python",
   "nbconvert_exporter": "python",
   "pygments_lexer": "ipython3",
   "version": "3.8.5"
  }
 },
 "nbformat": 4,
 "nbformat_minor": 4
}
