{
 "cells": [
  {
   "cell_type": "markdown",
   "metadata": {},
   "source": [
    "# Notebook 6"
   ]
  },
  {
   "cell_type": "markdown",
   "metadata": {},
   "source": [
    "## Requests"
   ]
  },
  {
   "attachments": {},
   "cell_type": "markdown",
   "metadata": {},
   "source": [
    "Import `requests` to make HTTP requests"
   ]
  },
  {
   "cell_type": "code",
   "execution_count": 1,
   "metadata": {},
   "outputs": [],
   "source": [
    "import requests"
   ]
  },
  {
   "cell_type": "code",
   "execution_count": 2,
   "metadata": {},
   "outputs": [],
   "source": [
    "assert \"json\" in dir()\n",
    "assert \"requests\" in dir()"
   ]
  },
  {
   "cell_type": "markdown",
   "metadata": {},
   "source": [
    "Define the variable `url` being equal to `\"https://httpbin.org/get\"`. Make a `get` request to this url and store the response in the variable `r`. Then store `r.status_code` in the variable `r_status`, `r.raw` in the variable `r_raw`, `r.text` in the variable `r_text` and `r.content` in the variable `r_content`. Check the content of the different variables by printing them. **Do you understand the different outputs?**"
   ]
  },
  {
   "cell_type": "code",
   "execution_count": 2,
   "metadata": {},
   "outputs": [],
   "source": [
    "url = \"https://httpbin.org/get\"\n",
    "r = requests.get(url)\n",
    "r_status = r.status_code\n",
    "r_raw = r.raw\n",
    "r_text = r.text\n",
    "r_content = r.content"
   ]
  },
  {
   "cell_type": "code",
   "execution_count": 3,
   "metadata": {},
   "outputs": [],
   "source": [
    "assert r_status == 200\n",
    "assert repr(type(r_raw)) == \"<class 'urllib3.response.HTTPResponse'>\"\n",
    "assert r_text.startswith(\"{\\n\")\n",
    "assert repr(r_content).startswith(\"b\\'\")"
   ]
  },
  {
   "cell_type": "markdown",
   "metadata": {},
   "source": [
    "Now use `r.json()` to parse the content and store the result in the variable `content`. Print the content to understand the structure and then store the `origin` in a variable called `origin`."
   ]
  },
  {
   "cell_type": "code",
   "execution_count": 13,
   "metadata": {},
   "outputs": [
    {
     "data": {
      "text/plain": [
       "'https://httpbin.org/get'"
      ]
     },
     "execution_count": 13,
     "metadata": {},
     "output_type": "execute_result"
    }
   ],
   "source": [
    "content = r.json()\n",
    "origin = content[\"origin\"]\n",
    "content['headers']['Host']"
   ]
  },
  {
   "cell_type": "code",
   "execution_count": 6,
   "metadata": {},
   "outputs": [],
   "source": [
    "assert int(origin[0:2])"
   ]
  },
  {
   "cell_type": "markdown",
   "metadata": {},
   "source": [
    "Define the variable `link` being equal to `https://httpbin.org/get`. Also define a dictionary called `parameters` with the key-value pairs `\"user\":\"Dominik\"` and `\"passwd\":\"Test\"`. Now make a `get` request to this url and pass the given parameters. Store the response in the variable `res` and print `res.json()`. **Do you understand the new url?**"
   ]
  },
  {
   "cell_type": "code",
   "execution_count": 7,
   "metadata": {},
   "outputs": [
    {
     "data": {
      "text/plain": [
       "{'args': {'passwd': 'Test', 'user': 'Dominik'},\n",
       " 'headers': {'Accept': '*/*',\n",
       "  'Accept-Encoding': 'gzip, deflate, br',\n",
       "  'Host': 'httpbin.org',\n",
       "  'User-Agent': 'python-requests/2.27.1',\n",
       "  'X-Amzn-Trace-Id': 'Root=1-635ae0ee-20497c852fbf76c21c613669'},\n",
       " 'origin': '31.165.19.127',\n",
       " 'url': 'https://httpbin.org/get?user=Dominik&passwd=Test'}"
      ]
     },
     "execution_count": 7,
     "metadata": {},
     "output_type": "execute_result"
    }
   ],
   "source": [
    "link = \"https://httpbin.org/get\"\n",
    "parameters = {\"user\": \"Dominik\", \"passwd\": \"Test\"}\n",
    "res = requests.get(link, params=parameters)\n",
    "res.json()"
   ]
  },
  {
   "cell_type": "code",
   "execution_count": 8,
   "metadata": {},
   "outputs": [],
   "source": [
    "assert res.json()[\"url\"] == \"https://httpbin.org/get?user=Dominik&passwd=Test\""
   ]
  },
  {
   "cell_type": "markdown",
   "metadata": {},
   "source": [
    "Define the variable `url2` being equal to `https://httpbin.org/bearer`. Also define a dictionary `my_bearerkey` with the key-value pair `\"Authorization\": \"Bearer 123\"`. Store the response in the variable `result` and print `result.json()`. **Do you understand the difference between Headers and Params?**"
   ]
  },
  {
   "cell_type": "code",
   "execution_count": 9,
   "metadata": {},
   "outputs": [
    {
     "data": {
      "text/plain": [
       "{'authenticated': True, 'token': '123'}"
      ]
     },
     "execution_count": 9,
     "metadata": {},
     "output_type": "execute_result"
    }
   ],
   "source": [
    "url2 = \"https://httpbin.org/bearer\"\n",
    "my_bearerkey = {\"Authorization\": \"Bearer 123\"}\n",
    "result = requests.get(url2, headers=my_bearerkey)\n",
    "result.json()"
   ]
  },
  {
   "cell_type": "code",
   "execution_count": 10,
   "metadata": {},
   "outputs": [],
   "source": [
    "assert result.json()[\"authenticated\"] == True"
   ]
  }
 ],
 "metadata": {
  "kernelspec": {
   "display_name": "Python 3",
   "language": "python",
   "name": "python3"
  },
  "language_info": {
   "codemirror_mode": {
    "name": "ipython",
    "version": 3
   },
   "file_extension": ".py",
   "mimetype": "text/x-python",
   "name": "python",
   "nbconvert_exporter": "python",
   "pygments_lexer": "ipython3",
   "version": "3.8.5"
  }
 },
 "nbformat": 4,
 "nbformat_minor": 4
}
