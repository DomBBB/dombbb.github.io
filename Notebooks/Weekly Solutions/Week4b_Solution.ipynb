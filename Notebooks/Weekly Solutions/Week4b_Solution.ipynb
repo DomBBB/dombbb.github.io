{
 "cells": [
  {
   "cell_type": "markdown",
   "metadata": {},
   "source": [
    "# Sets"
   ]
  },
  {
   "cell_type": "markdown",
   "metadata": {},
   "source": [
    "Create an empty set called `empty_set`. **Why does empty_set = {} not work?**"
   ]
  },
  {
   "cell_type": "code",
   "execution_count": 1,
   "metadata": {},
   "outputs": [
    {
     "name": "stdout",
     "output_type": "stream",
     "text": [
      "<class 'dict'>\n",
      "<class 'set'>\n"
     ]
    }
   ],
   "source": [
    "empty_set = {} #creates a dictionary\n",
    "print(type(empty_set)) \n",
    "\n",
    "empty_set = set()\n",
    "print(type(empty_set))"
   ]
  },
  {
   "cell_type": "code",
   "execution_count": 2,
   "metadata": {},
   "outputs": [],
   "source": [
    "assert isinstance(empty_set, set)"
   ]
  },
  {
   "cell_type": "markdown",
   "metadata": {},
   "source": [
    "Create a set called `class1` containing the names \"Anna\", \"Beat\", \"Charlotte\", \"David\". Create another set `boys` containing the names \"Beat\", \"David\", \"Eric\", \"Ferdinand\", \"George\"."
   ]
  },
  {
   "cell_type": "code",
   "execution_count": 3,
   "metadata": {},
   "outputs": [],
   "source": [
    "class1 = {\"Anna\", \"Beat\", \"Charlotte\", \"David\"}\n",
    "boys = {\"Beat\", \"David\", \"Eric\", \"Ferdinand\", \"George\"}"
   ]
  },
  {
   "cell_type": "code",
   "execution_count": 4,
   "metadata": {},
   "outputs": [],
   "source": [
    "assert class1=={'Anna', 'Beat', 'Charlotte', 'David'}\n",
    "assert boys=={'Beat', 'David', 'Eric', 'Ferdinand', 'George'}"
   ]
  },
  {
   "cell_type": "markdown",
   "metadata": {},
   "source": [
    "Try accessing the first element of `class1`. Why does this not work?"
   ]
  },
  {
   "cell_type": "code",
   "execution_count": 5,
   "metadata": {},
   "outputs": [
    {
     "ename": "TypeError",
     "evalue": "'set' object is not subscriptable",
     "output_type": "error",
     "traceback": [
      "\u001b[1;31m---------------------------------------------------------------------------\u001b[0m",
      "\u001b[1;31mTypeError\u001b[0m                                 Traceback (most recent call last)",
      "\u001b[1;32m<ipython-input-5-926fbccf60d5>\u001b[0m in \u001b[0;36m<module>\u001b[1;34m\u001b[0m\n\u001b[1;32m----> 1\u001b[1;33m \u001b[0mprint\u001b[0m\u001b[1;33m(\u001b[0m\u001b[0mclass1\u001b[0m\u001b[1;33m[\u001b[0m\u001b[1;36m0\u001b[0m\u001b[1;33m]\u001b[0m\u001b[1;33m)\u001b[0m\u001b[1;33m\u001b[0m\u001b[1;33m\u001b[0m\u001b[0m\n\u001b[0m",
      "\u001b[1;31mTypeError\u001b[0m: 'set' object is not subscriptable"
     ]
    }
   ],
   "source": [
    "print(class1[0])"
   ]
  },
  {
   "cell_type": "code",
   "execution_count": 8,
   "metadata": {},
   "outputs": [],
   "source": [
    "# Because sets are unordered collections, indexing and subscriptions have no effect."
   ]
  },
  {
   "cell_type": "markdown",
   "metadata": {},
   "source": [
    "Add the names \"George\" and \"Hannah\" to `class1` (you can either use .add() twice or .update() once). **Print your class and check the number of students before and after.**"
   ]
  },
  {
   "cell_type": "code",
   "execution_count": 9,
   "metadata": {},
   "outputs": [
    {
     "name": "stdout",
     "output_type": "stream",
     "text": [
      "{'Hannah', 'Beat', 'Anna', 'Charlotte', 'George', 'David'}\n"
     ]
    }
   ],
   "source": [
    "class1.add(\"George\")      # no error, but it won't be added twice, because a set needs to have unique values\n",
    "class1.add(\"Hannah\")\n",
    "print(class1)"
   ]
  },
  {
   "cell_type": "code",
   "execution_count": 10,
   "metadata": {},
   "outputs": [],
   "source": [
    "assert class1=={'Charlotte', 'George', 'Beat', 'Anna', 'David', 'Hannah'}"
   ]
  },
  {
   "cell_type": "markdown",
   "metadata": {},
   "source": [
    "Remove the name \"Anna\" from `class1` (remove)."
   ]
  },
  {
   "cell_type": "code",
   "execution_count": 11,
   "metadata": {},
   "outputs": [],
   "source": [
    "class1.remove(\"Anna\")"
   ]
  },
  {
   "cell_type": "code",
   "execution_count": 12,
   "metadata": {},
   "outputs": [],
   "source": [
    "assert class1=={'Charlotte', 'George', 'Beat', 'David', 'Hannah'}"
   ]
  },
  {
   "cell_type": "markdown",
   "metadata": {},
   "source": [
    "Play around with the below listed methods .difference(), .intersection(), .symmetric_difference(), .union() and the sets `class1` and `boys` to figure out their meaning and the impact of the order."
   ]
  },
  {
   "cell_type": "code",
   "execution_count": 13,
   "metadata": {},
   "outputs": [
    {
     "name": "stdout",
     "output_type": "stream",
     "text": [
      "{'Hannah', 'Charlotte'}\n",
      "{'Eric', 'Ferdinand'}\n"
     ]
    }
   ],
   "source": [
    "print(class1.difference(boys))\n",
    "print(boys.difference(class1))"
   ]
  },
  {
   "cell_type": "code",
   "execution_count": 14,
   "metadata": {},
   "outputs": [
    {
     "name": "stdout",
     "output_type": "stream",
     "text": [
      "{'Hannah', 'Eric', 'Ferdinand', 'Charlotte'}\n",
      "{'Hannah', 'Eric', 'Ferdinand', 'Charlotte'}\n"
     ]
    }
   ],
   "source": [
    "print(class1.symmetric_difference(boys))\n",
    "print(boys.symmetric_difference(class1))"
   ]
  },
  {
   "cell_type": "code",
   "execution_count": 15,
   "metadata": {},
   "outputs": [
    {
     "name": "stdout",
     "output_type": "stream",
     "text": [
      "{'Beat', 'George', 'David'}\n",
      "{'Beat', 'George', 'David'}\n"
     ]
    }
   ],
   "source": [
    "print(class1.intersection(boys))\n",
    "print(boys.intersection(class1))"
   ]
  },
  {
   "cell_type": "code",
   "execution_count": 16,
   "metadata": {},
   "outputs": [
    {
     "name": "stdout",
     "output_type": "stream",
     "text": [
      "{'Hannah', 'Beat', 'Eric', 'Charlotte', 'George', 'Ferdinand', 'David'}\n",
      "{'Hannah', 'Beat', 'Eric', 'Charlotte', 'George', 'Ferdinand', 'David'}\n"
     ]
    }
   ],
   "source": [
    "print(class1.union(boys))\n",
    "print(boys.union(class1))"
   ]
  },
  {
   "cell_type": "markdown",
   "metadata": {},
   "source": [
    "# Dictionaries"
   ]
  },
  {
   "cell_type": "markdown",
   "metadata": {},
   "source": [
    "Create an empty dictionary called `dict1`."
   ]
  },
  {
   "cell_type": "code",
   "execution_count": 17,
   "metadata": {},
   "outputs": [],
   "source": [
    "dict1 = {}"
   ]
  },
  {
   "cell_type": "code",
   "execution_count": 18,
   "metadata": {},
   "outputs": [],
   "source": [
    "assert dict1=={}"
   ]
  },
  {
   "cell_type": "markdown",
   "metadata": {},
   "source": [
    "Create a dictionary `earthquakes` with following key-value pairs: (\"China\", 157), (\"Japan\", 61), (\"Indonesia\", 113), (\"Iran\", 106), (\"Turkey\", [77, 32]), (\"$\", X).\n",
    "\n",
    "X is another dictionary containing the keys (123, 456) and the corresponding values (1000, 2000)."
   ]
  },
  {
   "cell_type": "code",
   "execution_count": 19,
   "metadata": {},
   "outputs": [],
   "source": [
    "earthquakes = {\"China\": 157, \"Japan\": 61, \"Indonesia\": 113, \"Iran\": 106, \"Turkey\": [77, 32], \"$\": {123:1000, 456:2000}} "
   ]
  },
  {
   "cell_type": "code",
   "execution_count": 20,
   "metadata": {},
   "outputs": [],
   "source": [
    "assert earthquakes==dict(zip([\"China\", \"Japan\", \"Indonesia\", \"Iran\", \"Turkey\", \"$\"], [157, 61, 113, 106, [77, 32], {123:1000, 456:2000}]))"
   ]
  },
  {
   "cell_type": "markdown",
   "metadata": {},
   "source": [
    "Access the number of earthquakes in China (save it as `china`) and the second value in the number of eartquakes for Turkey (save it as `turkey`). **Usually you use the operator [] (indexing), but in some cases you should rather use .get(). When?**"
   ]
  },
  {
   "cell_type": "code",
   "execution_count": 21,
   "metadata": {},
   "outputs": [],
   "source": [
    "china = earthquakes[\"China\"]      # If this key does not exist Python throws an error.\n",
    "turkey = earthquakes[\"Turkey\"][1] # You could use .get() if you want Python to return None (instead of an error)."
   ]
  },
  {
   "cell_type": "code",
   "execution_count": 22,
   "metadata": {},
   "outputs": [],
   "source": [
    "assert china==157\n",
    "assert turkey==32"
   ]
  },
  {
   "cell_type": "markdown",
   "metadata": {},
   "source": [
    "Now use your knowledge about indexing to access the value of Japan and change it to 100."
   ]
  },
  {
   "cell_type": "code",
   "execution_count": 23,
   "metadata": {},
   "outputs": [],
   "source": [
    "earthquakes[\"Japan\"] = 100"
   ]
  },
  {
   "cell_type": "code",
   "execution_count": 24,
   "metadata": {},
   "outputs": [],
   "source": [
    "assert earthquakes[\"Japan\"]==100"
   ]
  },
  {
   "cell_type": "markdown",
   "metadata": {},
   "source": [
    "Similarly - if a key doesn't exist - you can add a key-value pair. Add Switzerland with the value 50."
   ]
  },
  {
   "cell_type": "code",
   "execution_count": 25,
   "metadata": {},
   "outputs": [],
   "source": [
    "earthquakes[\"Switzerland\"] = 50"
   ]
  },
  {
   "cell_type": "code",
   "execution_count": 26,
   "metadata": {},
   "outputs": [],
   "source": [
    "assert earthquakes[\"Switzerland\"]==50"
   ]
  },
  {
   "cell_type": "markdown",
   "metadata": {},
   "source": [
    "To remove a key-value pair you can use .pop(). **Do you see a difference to above, when we just added a value?**"
   ]
  },
  {
   "cell_type": "code",
   "execution_count": 27,
   "metadata": {},
   "outputs": [
    {
     "data": {
      "text/plain": [
       "{123: 1000, 456: 2000}"
      ]
     },
     "execution_count": 27,
     "metadata": {},
     "output_type": "execute_result"
    }
   ],
   "source": [
    "earthquakes.pop(\"$\")      # when adding a value you see no output. Using .pop() returns the values for the key you deleted."
   ]
  },
  {
   "cell_type": "code",
   "execution_count": 28,
   "metadata": {},
   "outputs": [],
   "source": [
    "assert {'China': 157,\n",
    " 'Japan': 100,\n",
    " 'Indonesia': 113,\n",
    " 'Iran': 106,\n",
    " 'Turkey': [77, 32],\n",
    " 'Switzerland': 50}==earthquakes"
   ]
  },
  {
   "cell_type": "markdown",
   "metadata": {},
   "source": [
    "You can use the methods .keys(), .values() or .items() to create iterables (something similar to a list), through which you can iterate e.g. with a for-loop. Check the code below to understand how they are working."
   ]
  },
  {
   "cell_type": "code",
   "execution_count": 29,
   "metadata": {},
   "outputs": [
    {
     "name": "stdout",
     "output_type": "stream",
     "text": [
      "dict_keys(['China', 'Japan', 'Indonesia', 'Iran', 'Turkey', 'Switzerland'])\n",
      "\n",
      "China\n",
      "Japan\n",
      "Indonesia\n",
      "Iran\n",
      "Turkey\n",
      "Switzerland\n"
     ]
    }
   ],
   "source": [
    "keys = earthquakes.keys()\n",
    "print(keys)\n",
    "print()\n",
    "for key in keys:\n",
    "    print(key)"
   ]
  },
  {
   "cell_type": "code",
   "execution_count": 30,
   "metadata": {},
   "outputs": [
    {
     "name": "stdout",
     "output_type": "stream",
     "text": [
      "dict_values([157, 100, 113, 106, [77, 32], 50])\n",
      "\n",
      "157\n",
      "100\n",
      "113\n",
      "106\n",
      "[77, 32]\n",
      "50\n"
     ]
    }
   ],
   "source": [
    "values = earthquakes.values()\n",
    "print(values)\n",
    "print()\n",
    "for value in values:\n",
    "    print(value)"
   ]
  },
  {
   "cell_type": "code",
   "execution_count": 31,
   "metadata": {},
   "outputs": [
    {
     "name": "stdout",
     "output_type": "stream",
     "text": [
      "dict_items([('China', 157), ('Japan', 100), ('Indonesia', 113), ('Iran', 106), ('Turkey', [77, 32]), ('Switzerland', 50)])\n",
      "\n",
      "We usually unpack the key from the values in the loop: China has the value: 157\n",
      "We usually unpack the key from the values in the loop: Japan has the value: 100\n",
      "We usually unpack the key from the values in the loop: Indonesia has the value: 113\n",
      "We usually unpack the key from the values in the loop: Iran has the value: 106\n",
      "We usually unpack the key from the values in the loop: Turkey has the value: [77, 32]\n",
      "We usually unpack the key from the values in the loop: Switzerland has the value: 50\n"
     ]
    }
   ],
   "source": [
    "items = earthquakes.items()\n",
    "print(items)\n",
    "print()\n",
    "for key, value in items:\n",
    "    print(f\"We usually unpack the key from the values in the loop: {key} has the value: {value}\")"
   ]
  },
  {
   "cell_type": "code",
   "execution_count": 32,
   "metadata": {},
   "outputs": [
    {
     "name": "stdout",
     "output_type": "stream",
     "text": [
      "We usually unpack the key from the values in the loop: China has the value: 157\n",
      "We usually unpack the key from the values in the loop: Japan has the value: 100\n",
      "We usually unpack the key from the values in the loop: Indonesia has the value: 113\n",
      "We usually unpack the key from the values in the loop: Iran has the value: 106\n",
      "We usually unpack the key from the values in the loop: Turkey has the value: [77, 32]\n",
      "We usually unpack the key from the values in the loop: Switzerland has the value: 50\n"
     ]
    }
   ],
   "source": [
    "# Doing this directly looks the following:\n",
    "for key, value in earthquakes.items():\n",
    "    print(f\"We usually unpack the key from the values in the loop: {key} has the value: {value}\")"
   ]
  }
 ],
 "metadata": {
  "kernelspec": {
   "display_name": "Python 3",
   "language": "python",
   "name": "python3"
  },
  "language_info": {
   "codemirror_mode": {
    "name": "ipython",
    "version": 3
   },
   "file_extension": ".py",
   "mimetype": "text/x-python",
   "name": "python",
   "nbconvert_exporter": "python",
   "pygments_lexer": "ipython3",
   "version": "3.8.5"
  }
 },
 "nbformat": 4,
 "nbformat_minor": 4
}
