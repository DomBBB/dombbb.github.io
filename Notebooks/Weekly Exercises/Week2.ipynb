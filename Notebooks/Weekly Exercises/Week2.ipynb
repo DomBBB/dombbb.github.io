{
 "cells": [
  {
   "cell_type": "markdown",
   "metadata": {},
   "source": [
    "# Notebook 2"
   ]
  },
  {
   "cell_type": "markdown",
   "metadata": {},
   "source": [
    "## If/Elif/Else & Conditions"
   ]
  },
  {
   "cell_type": "markdown",
   "metadata": {},
   "source": [
    "Define the variable `x` being logical/boolean true (1) and the variable `y` being logical/boolean false (0)."
   ]
  },
  {
   "cell_type": "code",
   "execution_count": null,
   "metadata": {},
   "outputs": [],
   "source": []
  },
  {
   "cell_type": "code",
   "execution_count": null,
   "metadata": {},
   "outputs": [],
   "source": [
    "assert isinstance(x, bool)\n",
    "assert int(x) == 1\n",
    "assert isinstance(y, bool)\n",
    "assert int(y) == 0"
   ]
  },
  {
   "cell_type": "markdown",
   "metadata": {},
   "source": [
    "Define the variable `age` being 24. Create another variable `age_check` that checks whether age is larger or equal to 20."
   ]
  },
  {
   "cell_type": "code",
   "execution_count": null,
   "metadata": {},
   "outputs": [],
   "source": []
  },
  {
   "cell_type": "code",
   "execution_count": null,
   "metadata": {},
   "outputs": [],
   "source": [
    "assert age == 24\n",
    "assert isinstance(age_check, bool)\n",
    "assert int(x) == 1"
   ]
  },
  {
   "cell_type": "markdown",
   "metadata": {},
   "source": [
    "Create an if statement that checks whether the variable `age` is larger or equal to 20. If it is store `\"old\"` in a variable called `age_check`. Otherwise do nothing."
   ]
  },
  {
   "cell_type": "code",
   "execution_count": null,
   "metadata": {},
   "outputs": [],
   "source": []
  },
  {
   "cell_type": "code",
   "execution_count": null,
   "metadata": {},
   "outputs": [],
   "source": [
    "assert age_check == \"old\""
   ]
  },
  {
   "cell_type": "markdown",
   "metadata": {},
   "source": [
    "Create an if statement that checks whether the variable `age` is larger or equal to 30. If it is store `\"old\"` in a variable called `age_check`. Otherwise store `\"young\"` in the variable `age_check`."
   ]
  },
  {
   "cell_type": "code",
   "execution_count": null,
   "metadata": {},
   "outputs": [],
   "source": []
  },
  {
   "cell_type": "code",
   "execution_count": null,
   "metadata": {},
   "outputs": [],
   "source": [
    "assert age_check == \"young\""
   ]
  },
  {
   "cell_type": "markdown",
   "metadata": {},
   "source": [
    "Create an if statement that checks whether the variable `age` is larger or equal to 30. If it is store `\"old\"` in a variable called `age_check`. Otherwise check whether the variable `age` is larger or equal to 22. If it is store `\"almost old\"` in the variable `age_check`. Otherwise do nothing."
   ]
  },
  {
   "cell_type": "code",
   "execution_count": null,
   "metadata": {},
   "outputs": [],
   "source": []
  },
  {
   "cell_type": "code",
   "execution_count": null,
   "metadata": {},
   "outputs": [],
   "source": [
    "assert age_check == \"almost old\""
   ]
  },
  {
   "cell_type": "markdown",
   "metadata": {},
   "source": [
    "Create an if statement that checks whether the variable `age` is larger or equal to 30. If it is store `\"old\"` in a variable called `age_check`. Otherwise check whether the variable `age` is larger or equal to 25. If it is store `\"almost old\"` in the variable `age_check`. Otherwise store `\"young\"` in the variable `age_check`."
   ]
  },
  {
   "cell_type": "code",
   "execution_count": null,
   "metadata": {},
   "outputs": [],
   "source": []
  },
  {
   "cell_type": "code",
   "execution_count": null,
   "metadata": {},
   "outputs": [],
   "source": [
    "assert age_check == \"young\""
   ]
  },
  {
   "cell_type": "markdown",
   "metadata": {},
   "source": [
    "Create an if statement that checks whether the variable `age` is smaller or equal to 30. If it is store `\"below 30\"` in a variable called `age_check`. Then create another if statement that checks whether the variable `age` is smaller or equal to 25. If it is store `\"below 25\"` in a variable called `age_check_2`. **Do you understand the difference between If/Elif and If/If?**"
   ]
  },
  {
   "cell_type": "code",
   "execution_count": null,
   "metadata": {},
   "outputs": [],
   "source": []
  },
  {
   "cell_type": "code",
   "execution_count": null,
   "metadata": {},
   "outputs": [],
   "source": [
    "assert age_check == \"below 30\"\n",
    "assert age_check_2 == \"below 25\""
   ]
  },
  {
   "cell_type": "markdown",
   "metadata": {},
   "source": [
    "## Loops"
   ]
  },
  {
   "cell_type": "markdown",
   "metadata": {},
   "source": [
    "### While Loop"
   ]
  },
  {
   "cell_type": "markdown",
   "metadata": {},
   "source": [
    "Create a variable `counter` being equal to 0. Then create a while loop that checks whether this variable is smaller than 5. If it is (=when the while condition evaluates to True) increase the counter by adding the number 1, if not (=when the while condition does not evaluate to True anymore) print out the counter variable."
   ]
  },
  {
   "cell_type": "code",
   "execution_count": null,
   "metadata": {},
   "outputs": [],
   "source": []
  },
  {
   "cell_type": "code",
   "execution_count": null,
   "metadata": {},
   "outputs": [],
   "source": [
    "assert counter == 5"
   ]
  },
  {
   "cell_type": "markdown",
   "metadata": {},
   "source": [
    "### For Loop"
   ]
  },
  {
   "cell_type": "markdown",
   "metadata": {},
   "source": [
    "We'll introduce lists later. For now it is only important for you to understand that we can store several values in a list."
   ]
  },
  {
   "cell_type": "markdown",
   "metadata": {},
   "source": [
    "We can iterate over different iterators. This means we go over a collection and for each element in this collection we do something. Here we'll introduce three different iterators."
   ]
  },
  {
   "cell_type": "code",
   "execution_count": null,
   "metadata": {},
   "outputs": [],
   "source": [
    "a_list = [1, \"Coconut\", 45, 23.7]\n",
    "a_range = range(2, 100, 2) # This iterator is explained in more detail in the Powerpoint.\n",
    "print(list(a_range))\n",
    "a_string = \"This is a string\"\n",
    "print(list(a_string))"
   ]
  },
  {
   "cell_type": "markdown",
   "metadata": {},
   "source": [
    "Let us visualize what elements these 3 iterators contain."
   ]
  },
  {
   "cell_type": "code",
   "execution_count": null,
   "metadata": {
    "scrolled": true
   },
   "outputs": [],
   "source": [
    "print(a_list)\n",
    "print(a_list)\n",
    "\n",
    "print(a_range)\n",
    "print(list(a_range))\n",
    "\n",
    "print(a_string)\n",
    "print(list(a_string))"
   ]
  },
  {
   "cell_type": "markdown",
   "metadata": {},
   "source": [
    "Define the variable `x` being 0. Then use a for loop to iterate over all even numbers between and **including** 0 and 100. Add each of these numbers to the variable x."
   ]
  },
  {
   "cell_type": "code",
   "execution_count": null,
   "metadata": {},
   "outputs": [],
   "source": []
  },
  {
   "cell_type": "code",
   "execution_count": null,
   "metadata": {},
   "outputs": [],
   "source": [
    "assert x == 2550"
   ]
  },
  {
   "cell_type": "markdown",
   "metadata": {},
   "source": [
    "Define the variable `y` being \"0\" (0 represented as a string). Then use a for loop to iterate over all even numbers between and **including** 0 and 100. Concatenate (adding together strings) each of these numbers to the variable y."
   ]
  },
  {
   "cell_type": "code",
   "execution_count": null,
   "metadata": {},
   "outputs": [],
   "source": []
  },
  {
   "cell_type": "code",
   "execution_count": null,
   "metadata": {},
   "outputs": [],
   "source": [
    "assert y == \"002468101214161820222426283032343638404244464850525456586062646668707274767880828486889092949698100\""
   ]
  },
  {
   "cell_type": "markdown",
   "metadata": {},
   "source": [
    "Define the variable `z` being 0. Then use a for loop to iterate over the string `\"102030405060708090\"`. Add each of these numbers to the variable z"
   ]
  },
  {
   "cell_type": "code",
   "execution_count": null,
   "metadata": {},
   "outputs": [],
   "source": []
  },
  {
   "cell_type": "code",
   "execution_count": null,
   "metadata": {},
   "outputs": [],
   "source": [
    "assert z == 45"
   ]
  }
 ],
 "metadata": {
  "kernelspec": {
   "display_name": "Python 3",
   "language": "python",
   "name": "python3"
  },
  "language_info": {
   "codemirror_mode": {
    "name": "ipython",
    "version": 3
   },
   "file_extension": ".py",
   "mimetype": "text/x-python",
   "name": "python",
   "nbconvert_exporter": "python",
   "pygments_lexer": "ipython3",
   "version": "3.8.5"
  }
 },
 "nbformat": 4,
 "nbformat_minor": 4
}
