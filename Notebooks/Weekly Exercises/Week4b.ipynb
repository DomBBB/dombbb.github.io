{
 "cells": [
  {
   "cell_type": "markdown",
   "metadata": {},
   "source": [
    "# Sets"
   ]
  },
  {
   "cell_type": "markdown",
   "metadata": {},
   "source": [
    "Create an empty set called `empty_set`. **Why does empty_set = {} not work?**"
   ]
  },
  {
   "cell_type": "code",
   "execution_count": null,
   "metadata": {},
   "outputs": [],
   "source": []
  },
  {
   "cell_type": "code",
   "execution_count": null,
   "metadata": {},
   "outputs": [],
   "source": [
    "assert isinstance(empty_set, set)"
   ]
  },
  {
   "cell_type": "markdown",
   "metadata": {},
   "source": [
    "Create a set called `class1` containing the names \"Anna\", \"Beat\", \"Charlotte\", \"David\". Create another set `boys` containing the names \"Beat\", \"David\", \"Eric\", \"Ferdinand\", \"George\"."
   ]
  },
  {
   "cell_type": "code",
   "execution_count": null,
   "metadata": {},
   "outputs": [],
   "source": []
  },
  {
   "cell_type": "code",
   "execution_count": null,
   "metadata": {},
   "outputs": [],
   "source": [
    "assert class1=={'Anna', 'Beat', 'Charlotte', 'David'}\n",
    "assert boys=={'Beat', 'David', 'Eric', 'Ferdinand', 'George'}"
   ]
  },
  {
   "cell_type": "markdown",
   "metadata": {},
   "source": [
    "Try accessing the first element of `class1`. Why does this not work?"
   ]
  },
  {
   "cell_type": "code",
   "execution_count": null,
   "metadata": {},
   "outputs": [],
   "source": []
  },
  {
   "cell_type": "code",
   "execution_count": null,
   "metadata": {},
   "outputs": [],
   "source": [
    "# Because sets are unordered collections, indexing and subscriptions have no effect."
   ]
  },
  {
   "cell_type": "markdown",
   "metadata": {},
   "source": [
    "Add the names \"George\" and \"Hannah\" to `class1` (you can either use .add() twice or .update() once). **Print your class and check the number of students before and after.**"
   ]
  },
  {
   "cell_type": "code",
   "execution_count": null,
   "metadata": {},
   "outputs": [],
   "source": []
  },
  {
   "cell_type": "code",
   "execution_count": null,
   "metadata": {},
   "outputs": [],
   "source": [
    "assert class1=={'Charlotte', 'George', 'Beat', 'Anna', 'David', 'Hannah'}"
   ]
  },
  {
   "cell_type": "markdown",
   "metadata": {},
   "source": [
    "Remove the name \"Anna\" from `class1` (remove)."
   ]
  },
  {
   "cell_type": "code",
   "execution_count": null,
   "metadata": {},
   "outputs": [],
   "source": []
  },
  {
   "cell_type": "code",
   "execution_count": null,
   "metadata": {},
   "outputs": [],
   "source": [
    "assert class1=={'Charlotte', 'George', 'Beat', 'David', 'Hannah'}"
   ]
  },
  {
   "cell_type": "markdown",
   "metadata": {},
   "source": [
    "Play around with the below listed methods .difference(), .intersection(), .symmetric_difference(), .union() and the sets `class1` and `boys` to figure out their meaning and the impact of the order."
   ]
  },
  {
   "cell_type": "code",
   "execution_count": null,
   "metadata": {},
   "outputs": [],
   "source": [
    "print(class1.difference(boys))\n",
    "print(boys.difference(class1))"
   ]
  },
  {
   "cell_type": "code",
   "execution_count": null,
   "metadata": {},
   "outputs": [],
   "source": [
    "print(class1.symmetric_difference(boys))\n",
    "print(boys.symmetric_difference(class1))"
   ]
  },
  {
   "cell_type": "code",
   "execution_count": null,
   "metadata": {},
   "outputs": [],
   "source": [
    "print(class1.intersection(boys))\n",
    "print(boys.intersection(class1))"
   ]
  },
  {
   "cell_type": "code",
   "execution_count": null,
   "metadata": {},
   "outputs": [],
   "source": [
    "print(class1.union(boys))\n",
    "print(boys.union(class1))"
   ]
  },
  {
   "cell_type": "markdown",
   "metadata": {},
   "source": [
    "# Dictionaries"
   ]
  },
  {
   "cell_type": "markdown",
   "metadata": {},
   "source": [
    "Create an empty dictionary called `dict1`."
   ]
  },
  {
   "cell_type": "code",
   "execution_count": null,
   "metadata": {},
   "outputs": [],
   "source": []
  },
  {
   "cell_type": "code",
   "execution_count": null,
   "metadata": {},
   "outputs": [],
   "source": [
    "assert dict1=={}"
   ]
  },
  {
   "cell_type": "markdown",
   "metadata": {},
   "source": [
    "Create a dictionary `earthquakes` with following key-value pairs: (\"China\", 157), (\"Japan\", 61), (\"Indonesia\", 113), (\"Iran\", 106), (\"Turkey\", [77, 32]), (\"$\", X).\n",
    "\n",
    "X is another dictionary containing the keys (123, 456) and the corresponding values (1000, 2000)."
   ]
  },
  {
   "cell_type": "code",
   "execution_count": null,
   "metadata": {},
   "outputs": [],
   "source": []
  },
  {
   "cell_type": "code",
   "execution_count": null,
   "metadata": {},
   "outputs": [],
   "source": [
    "assert earthquakes==dict(zip([\"China\", \"Japan\", \"Indonesia\", \"Iran\", \"Turkey\", \"$\"], [157, 61, 113, 106, [77, 32], {123:1000, 456:2000}]))"
   ]
  },
  {
   "cell_type": "markdown",
   "metadata": {},
   "source": [
    "Access the number of earthquakes in China (save it as `china`) and the second value in the number of eartquakes for Turkey (save it as `turkey`). **Usually you use the operator [] (indexing), but in some cases you should rather use .get(). When?**"
   ]
  },
  {
   "cell_type": "code",
   "execution_count": null,
   "metadata": {},
   "outputs": [],
   "source": []
  },
  {
   "cell_type": "code",
   "execution_count": null,
   "metadata": {},
   "outputs": [],
   "source": [
    "assert china==157\n",
    "assert turkey==32"
   ]
  },
  {
   "cell_type": "markdown",
   "metadata": {},
   "source": [
    "Now use your knowledge about indexing to access the value of Japan and change it to 100."
   ]
  },
  {
   "cell_type": "code",
   "execution_count": null,
   "metadata": {},
   "outputs": [],
   "source": []
  },
  {
   "cell_type": "code",
   "execution_count": null,
   "metadata": {},
   "outputs": [],
   "source": [
    "assert earthquakes[\"Japan\"]==100"
   ]
  },
  {
   "cell_type": "markdown",
   "metadata": {},
   "source": [
    "Similarly - if a key doesn't exist - you can add a key-value pair. Add Switzerland with the value 50."
   ]
  },
  {
   "cell_type": "code",
   "execution_count": null,
   "metadata": {},
   "outputs": [],
   "source": []
  },
  {
   "cell_type": "code",
   "execution_count": null,
   "metadata": {},
   "outputs": [],
   "source": [
    "assert earthquakes[\"Switzerland\"]==50"
   ]
  },
  {
   "cell_type": "markdown",
   "metadata": {},
   "source": [
    "To remove a key-value pair you can use .pop(). **Do you see a difference to above, when we just added a value?**"
   ]
  },
  {
   "cell_type": "code",
   "execution_count": null,
   "metadata": {},
   "outputs": [],
   "source": []
  },
  {
   "cell_type": "code",
   "execution_count": null,
   "metadata": {},
   "outputs": [],
   "source": [
    "assert {'China': 157,\n",
    " 'Japan': 100,\n",
    " 'Indonesia': 113,\n",
    " 'Iran': 106,\n",
    " 'Turkey': [77, 32],\n",
    " 'Switzerland': 50}==earthquakes"
   ]
  },
  {
   "cell_type": "markdown",
   "metadata": {},
   "source": [
    "You can use the methods .keys(), .values() or .items() to create iterables (something similar to a list), through which you can iterate e.g. with a for-loop. Check the code below to understand how they are working."
   ]
  },
  {
   "cell_type": "code",
   "execution_count": null,
   "metadata": {},
   "outputs": [],
   "source": [
    "keys = earthquakes.keys()\n",
    "print(keys)\n",
    "print()\n",
    "for key in keys:\n",
    "    print(key)"
   ]
  },
  {
   "cell_type": "code",
   "execution_count": null,
   "metadata": {},
   "outputs": [],
   "source": [
    "values = earthquakes.values()\n",
    "print(values)\n",
    "print()\n",
    "for value in values:\n",
    "    print(value)"
   ]
  },
  {
   "cell_type": "code",
   "execution_count": null,
   "metadata": {},
   "outputs": [],
   "source": [
    "items = earthquakes.items()\n",
    "print(items)\n",
    "print()\n",
    "for key, value in items:\n",
    "    print(f\"We usually unpack the key from the values in the loop: {key} has the value: {value}\")"
   ]
  },
  {
   "cell_type": "code",
   "execution_count": null,
   "metadata": {},
   "outputs": [],
   "source": [
    "# Doing this directly looks the following:\n",
    "for key, value in earthquakes.items():\n",
    "    print(f\"We usually unpack the key from the values in the loop: {key} has the value: {value}\")"
   ]
  }
 ],
 "metadata": {
  "kernelspec": {
   "display_name": "Python 3",
   "language": "python",
   "name": "python3"
  },
  "language_info": {
   "codemirror_mode": {
    "name": "ipython",
    "version": 3
   },
   "file_extension": ".py",
   "mimetype": "text/x-python",
   "name": "python",
   "nbconvert_exporter": "python",
   "pygments_lexer": "ipython3",
   "version": "3.8.5"
  }
 },
 "nbformat": 4,
 "nbformat_minor": 4
}
