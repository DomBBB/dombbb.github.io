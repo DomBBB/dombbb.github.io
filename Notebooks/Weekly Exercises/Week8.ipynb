{
 "cells": [
  {
   "cell_type": "markdown",
   "metadata": {},
   "source": [
    "# Notebook 8"
   ]
  },
  {
   "cell_type": "markdown",
   "metadata": {},
   "source": [
    "Import the necessary dependencies, download a sample dataframe and take a first look at the structure."
   ]
  },
  {
   "cell_type": "code",
   "execution_count": null,
   "metadata": {},
   "outputs": [],
   "source": [
    "import pandas as pd\n",
    "df = pd.read_csv(\"https://stats.govt.nz/assets/Uploads/Business-financial-data/Business-financial-data-June-2022-quarter/Download-data/business-financial-data-june-2022-quarter-csv.zip\")\n",
    "df.head()"
   ]
  },
  {
   "cell_type": "markdown",
   "metadata": {},
   "source": [
    "Access the fourth row (**should you use .iloc[] or .loc[]?**) and store the result in the variable `row_4`. **What type is this variable?** "
   ]
  },
  {
   "cell_type": "code",
   "execution_count": null,
   "metadata": {},
   "outputs": [],
   "source": []
  },
  {
   "cell_type": "code",
   "execution_count": null,
   "metadata": {},
   "outputs": [],
   "source": [
    "assert repr(row_4)=='Series_reference                                      BDCQ.SF1AA2CA\\nPeriod                                                      2017.03\\nData_value                                                  1010.66\\nSuppressed                                                      NaN\\nSTATUS                                                            F\\nUNITS                                                       Dollars\\nMagnitude                                                         6\\nSubject                              Business Data Collection - BDC\\nGroup               Industry by financial variable (NZSIOC Level 2)\\nSeries_title_1                             Sales (operating income)\\nSeries_title_2                                 Forestry and Logging\\nSeries_title_3                                       Current prices\\nSeries_title_4                                           Unadjusted\\nSeries_title_5                                                  NaN\\nName: 3, dtype: object'"
   ]
  },
  {
   "cell_type": "markdown",
   "metadata": {},
   "source": [
    "Now access the `Period` column in `row_4` and store the result in `period_row_4`."
   ]
  },
  {
   "cell_type": "code",
   "execution_count": null,
   "metadata": {},
   "outputs": [],
   "source": []
  },
  {
   "cell_type": "code",
   "execution_count": null,
   "metadata": {},
   "outputs": [],
   "source": [
    "assert period_row_4==2017.03"
   ]
  },
  {
   "cell_type": "markdown",
   "metadata": {},
   "source": [
    "Do the same thing as above for row 3 in one line and store the result in `period_row_3`."
   ]
  },
  {
   "cell_type": "code",
   "execution_count": null,
   "metadata": {},
   "outputs": [],
   "source": []
  },
  {
   "cell_type": "code",
   "execution_count": null,
   "metadata": {},
   "outputs": [],
   "source": [
    "assert period_row_3==2016.12"
   ]
  },
  {
   "cell_type": "markdown",
   "metadata": {},
   "source": [
    "Create a copy of `df` and store it in `df_2`. Then store only the columns `Series_reference`, `Period` and `Suppressed`."
   ]
  },
  {
   "cell_type": "code",
   "execution_count": null,
   "metadata": {},
   "outputs": [],
   "source": []
  },
  {
   "cell_type": "code",
   "execution_count": null,
   "metadata": {},
   "outputs": [],
   "source": [
    "assert repr(df_2)[0:100]=='     Series_reference   Period Suppressed\\n0       BDCQ.SF1AA2CA  2016.06        NaN\\n1       BDCQ.SF1'"
   ]
  },
  {
   "cell_type": "markdown",
   "metadata": {},
   "source": [
    "Set the `Series_reference` as Index (**Why is this possible? There are non-unique indeces!?**. Then create a new column `modified period` that has the values from `Period` multiplied by 2."
   ]
  },
  {
   "cell_type": "code",
   "execution_count": null,
   "metadata": {},
   "outputs": [],
   "source": []
  },
  {
   "cell_type": "code",
   "execution_count": null,
   "metadata": {},
   "outputs": [],
   "source": [
    "df_2"
   ]
  },
  {
   "cell_type": "markdown",
   "metadata": {},
   "source": [
    "Now sort the dataframe by the `Period` in descending order. Store only the first 10 row in `df_2` (use .head()) and then sort by index again."
   ]
  },
  {
   "cell_type": "code",
   "execution_count": null,
   "metadata": {},
   "outputs": [],
   "source": []
  },
  {
   "cell_type": "code",
   "execution_count": null,
   "metadata": {},
   "outputs": [],
   "source": [
    "assert repr(df_2)[:100]=='                   Period Suppressed  modified period\\nSeries_reference                              '"
   ]
  }
 ],
 "metadata": {
  "kernelspec": {
   "display_name": "Python 3",
   "language": "python",
   "name": "python3"
  },
  "language_info": {
   "codemirror_mode": {
    "name": "ipython",
    "version": 3
   },
   "file_extension": ".py",
   "mimetype": "text/x-python",
   "name": "python",
   "nbconvert_exporter": "python",
   "pygments_lexer": "ipython3",
   "version": "3.8.5"
  }
 },
 "nbformat": 4,
 "nbformat_minor": 4
}
